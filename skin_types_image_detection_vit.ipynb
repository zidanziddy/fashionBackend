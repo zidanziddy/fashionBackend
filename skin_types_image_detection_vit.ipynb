{
  "metadata": {
    "kernelspec": {
      "display_name": "Python 3",
      "name": "python3"
    },
    "language_info": {
      "name": "python",
      "version": "3.10.13",
      "mimetype": "text/x-python",
      "codemirror_mode": {
        "name": "ipython",
        "version": 3
      },
      "pygments_lexer": "ipython3",
      "nbconvert_exporter": "python",
      "file_extension": ".py"
    },
    "kaggle": {
      "accelerator": "gpu",
      "dataSources": [
        {
          "sourceId": 7665644,
          "sourceType": "datasetVersion",
          "datasetId": 4470475
        }
      ],
      "dockerImageVersionId": 30646,
      "isInternetEnabled": true,
      "language": "python",
      "sourceType": "notebook",
      "isGpuEnabled": true
    },
    "colab": {
      "provenance": [],
      "gpuType": "T4"
    },
    "accelerator": "GPU",
    "widgets": {
      "application/vnd.jupyter.widget-state+json": {
        "d48eba97d8aa4d5585ad85f3caa5c0d9": {
          "model_module": "@jupyter-widgets/controls",
          "model_name": "HBoxModel",
          "model_module_version": "1.5.0",
          "state": {
            "_dom_classes": [],
            "_model_module": "@jupyter-widgets/controls",
            "_model_module_version": "1.5.0",
            "_model_name": "HBoxModel",
            "_view_count": null,
            "_view_module": "@jupyter-widgets/controls",
            "_view_module_version": "1.5.0",
            "_view_name": "HBoxView",
            "box_style": "",
            "children": [
              "IPY_MODEL_96810ee8eeff49bb950403eadbd1e4cb",
              "IPY_MODEL_8a5e40a3ec844b339058d305908c432b",
              "IPY_MODEL_d270175eef044f3fb7dee5a0e4b6a6a5"
            ],
            "layout": "IPY_MODEL_d534f2bfc0404dc4a8f4c4b28f186957"
          }
        },
        "96810ee8eeff49bb950403eadbd1e4cb": {
          "model_module": "@jupyter-widgets/controls",
          "model_name": "HTMLModel",
          "model_module_version": "1.5.0",
          "state": {
            "_dom_classes": [],
            "_model_module": "@jupyter-widgets/controls",
            "_model_module_version": "1.5.0",
            "_model_name": "HTMLModel",
            "_view_count": null,
            "_view_module": "@jupyter-widgets/controls",
            "_view_module_version": "1.5.0",
            "_view_name": "HTMLView",
            "description": "",
            "description_tooltip": null,
            "layout": "IPY_MODEL_5a0cb4b2168b40c7a159c4da840da8aa",
            "placeholder": "​",
            "style": "IPY_MODEL_d4c31c99f00048c6a0eb0954a3613e04",
            "value": "Map: 100%"
          }
        },
        "8a5e40a3ec844b339058d305908c432b": {
          "model_module": "@jupyter-widgets/controls",
          "model_name": "FloatProgressModel",
          "model_module_version": "1.5.0",
          "state": {
            "_dom_classes": [],
            "_model_module": "@jupyter-widgets/controls",
            "_model_module_version": "1.5.0",
            "_model_name": "FloatProgressModel",
            "_view_count": null,
            "_view_module": "@jupyter-widgets/controls",
            "_view_module_version": "1.5.0",
            "_view_name": "ProgressView",
            "bar_style": "success",
            "description": "",
            "description_tooltip": null,
            "layout": "IPY_MODEL_340f930e02d54b7e87d1a3e7bca4d284",
            "max": 3822,
            "min": 0,
            "orientation": "horizontal",
            "style": "IPY_MODEL_af977296b0c34953b6920e94d2148a47",
            "value": 3822
          }
        },
        "d270175eef044f3fb7dee5a0e4b6a6a5": {
          "model_module": "@jupyter-widgets/controls",
          "model_name": "HTMLModel",
          "model_module_version": "1.5.0",
          "state": {
            "_dom_classes": [],
            "_model_module": "@jupyter-widgets/controls",
            "_model_module_version": "1.5.0",
            "_model_name": "HTMLModel",
            "_view_count": null,
            "_view_module": "@jupyter-widgets/controls",
            "_view_module_version": "1.5.0",
            "_view_name": "HTMLView",
            "description": "",
            "description_tooltip": null,
            "layout": "IPY_MODEL_2ea9ddde5a8b4ab087a1c5d83220403a",
            "placeholder": "​",
            "style": "IPY_MODEL_706d3e99ca2840d59955a7e5af512b04",
            "value": " 3822/3822 [00:00&lt;00:00, 49487.18 examples/s]"
          }
        },
        "d534f2bfc0404dc4a8f4c4b28f186957": {
          "model_module": "@jupyter-widgets/base",
          "model_name": "LayoutModel",
          "model_module_version": "1.2.0",
          "state": {
            "_model_module": "@jupyter-widgets/base",
            "_model_module_version": "1.2.0",
            "_model_name": "LayoutModel",
            "_view_count": null,
            "_view_module": "@jupyter-widgets/base",
            "_view_module_version": "1.2.0",
            "_view_name": "LayoutView",
            "align_content": null,
            "align_items": null,
            "align_self": null,
            "border": null,
            "bottom": null,
            "display": null,
            "flex": null,
            "flex_flow": null,
            "grid_area": null,
            "grid_auto_columns": null,
            "grid_auto_flow": null,
            "grid_auto_rows": null,
            "grid_column": null,
            "grid_gap": null,
            "grid_row": null,
            "grid_template_areas": null,
            "grid_template_columns": null,
            "grid_template_rows": null,
            "height": null,
            "justify_content": null,
            "justify_items": null,
            "left": null,
            "margin": null,
            "max_height": null,
            "max_width": null,
            "min_height": null,
            "min_width": null,
            "object_fit": null,
            "object_position": null,
            "order": null,
            "overflow": null,
            "overflow_x": null,
            "overflow_y": null,
            "padding": null,
            "right": null,
            "top": null,
            "visibility": null,
            "width": null
          }
        },
        "5a0cb4b2168b40c7a159c4da840da8aa": {
          "model_module": "@jupyter-widgets/base",
          "model_name": "LayoutModel",
          "model_module_version": "1.2.0",
          "state": {
            "_model_module": "@jupyter-widgets/base",
            "_model_module_version": "1.2.0",
            "_model_name": "LayoutModel",
            "_view_count": null,
            "_view_module": "@jupyter-widgets/base",
            "_view_module_version": "1.2.0",
            "_view_name": "LayoutView",
            "align_content": null,
            "align_items": null,
            "align_self": null,
            "border": null,
            "bottom": null,
            "display": null,
            "flex": null,
            "flex_flow": null,
            "grid_area": null,
            "grid_auto_columns": null,
            "grid_auto_flow": null,
            "grid_auto_rows": null,
            "grid_column": null,
            "grid_gap": null,
            "grid_row": null,
            "grid_template_areas": null,
            "grid_template_columns": null,
            "grid_template_rows": null,
            "height": null,
            "justify_content": null,
            "justify_items": null,
            "left": null,
            "margin": null,
            "max_height": null,
            "max_width": null,
            "min_height": null,
            "min_width": null,
            "object_fit": null,
            "object_position": null,
            "order": null,
            "overflow": null,
            "overflow_x": null,
            "overflow_y": null,
            "padding": null,
            "right": null,
            "top": null,
            "visibility": null,
            "width": null
          }
        },
        "d4c31c99f00048c6a0eb0954a3613e04": {
          "model_module": "@jupyter-widgets/controls",
          "model_name": "DescriptionStyleModel",
          "model_module_version": "1.5.0",
          "state": {
            "_model_module": "@jupyter-widgets/controls",
            "_model_module_version": "1.5.0",
            "_model_name": "DescriptionStyleModel",
            "_view_count": null,
            "_view_module": "@jupyter-widgets/base",
            "_view_module_version": "1.2.0",
            "_view_name": "StyleView",
            "description_width": ""
          }
        },
        "340f930e02d54b7e87d1a3e7bca4d284": {
          "model_module": "@jupyter-widgets/base",
          "model_name": "LayoutModel",
          "model_module_version": "1.2.0",
          "state": {
            "_model_module": "@jupyter-widgets/base",
            "_model_module_version": "1.2.0",
            "_model_name": "LayoutModel",
            "_view_count": null,
            "_view_module": "@jupyter-widgets/base",
            "_view_module_version": "1.2.0",
            "_view_name": "LayoutView",
            "align_content": null,
            "align_items": null,
            "align_self": null,
            "border": null,
            "bottom": null,
            "display": null,
            "flex": null,
            "flex_flow": null,
            "grid_area": null,
            "grid_auto_columns": null,
            "grid_auto_flow": null,
            "grid_auto_rows": null,
            "grid_column": null,
            "grid_gap": null,
            "grid_row": null,
            "grid_template_areas": null,
            "grid_template_columns": null,
            "grid_template_rows": null,
            "height": null,
            "justify_content": null,
            "justify_items": null,
            "left": null,
            "margin": null,
            "max_height": null,
            "max_width": null,
            "min_height": null,
            "min_width": null,
            "object_fit": null,
            "object_position": null,
            "order": null,
            "overflow": null,
            "overflow_x": null,
            "overflow_y": null,
            "padding": null,
            "right": null,
            "top": null,
            "visibility": null,
            "width": null
          }
        },
        "af977296b0c34953b6920e94d2148a47": {
          "model_module": "@jupyter-widgets/controls",
          "model_name": "ProgressStyleModel",
          "model_module_version": "1.5.0",
          "state": {
            "_model_module": "@jupyter-widgets/controls",
            "_model_module_version": "1.5.0",
            "_model_name": "ProgressStyleModel",
            "_view_count": null,
            "_view_module": "@jupyter-widgets/base",
            "_view_module_version": "1.2.0",
            "_view_name": "StyleView",
            "bar_color": null,
            "description_width": ""
          }
        },
        "2ea9ddde5a8b4ab087a1c5d83220403a": {
          "model_module": "@jupyter-widgets/base",
          "model_name": "LayoutModel",
          "model_module_version": "1.2.0",
          "state": {
            "_model_module": "@jupyter-widgets/base",
            "_model_module_version": "1.2.0",
            "_model_name": "LayoutModel",
            "_view_count": null,
            "_view_module": "@jupyter-widgets/base",
            "_view_module_version": "1.2.0",
            "_view_name": "LayoutView",
            "align_content": null,
            "align_items": null,
            "align_self": null,
            "border": null,
            "bottom": null,
            "display": null,
            "flex": null,
            "flex_flow": null,
            "grid_area": null,
            "grid_auto_columns": null,
            "grid_auto_flow": null,
            "grid_auto_rows": null,
            "grid_column": null,
            "grid_gap": null,
            "grid_row": null,
            "grid_template_areas": null,
            "grid_template_columns": null,
            "grid_template_rows": null,
            "height": null,
            "justify_content": null,
            "justify_items": null,
            "left": null,
            "margin": null,
            "max_height": null,
            "max_width": null,
            "min_height": null,
            "min_width": null,
            "object_fit": null,
            "object_position": null,
            "order": null,
            "overflow": null,
            "overflow_x": null,
            "overflow_y": null,
            "padding": null,
            "right": null,
            "top": null,
            "visibility": null,
            "width": null
          }
        },
        "706d3e99ca2840d59955a7e5af512b04": {
          "model_module": "@jupyter-widgets/controls",
          "model_name": "DescriptionStyleModel",
          "model_module_version": "1.5.0",
          "state": {
            "_model_module": "@jupyter-widgets/controls",
            "_model_module_version": "1.5.0",
            "_model_name": "DescriptionStyleModel",
            "_view_count": null,
            "_view_module": "@jupyter-widgets/base",
            "_view_module_version": "1.2.0",
            "_view_name": "StyleView",
            "description_width": ""
          }
        },
        "404981dd5c2a40f39299846093b9b5cd": {
          "model_module": "@jupyter-widgets/controls",
          "model_name": "HBoxModel",
          "model_module_version": "1.5.0",
          "state": {
            "_dom_classes": [],
            "_model_module": "@jupyter-widgets/controls",
            "_model_module_version": "1.5.0",
            "_model_name": "HBoxModel",
            "_view_count": null,
            "_view_module": "@jupyter-widgets/controls",
            "_view_module_version": "1.5.0",
            "_view_name": "HBoxView",
            "box_style": "",
            "children": [
              "IPY_MODEL_5f2af84c0b124f8ebbd40e424abcb596",
              "IPY_MODEL_bb4fca3b6ef9488bb9af6391657ba54a",
              "IPY_MODEL_d51f7a590e4d4d678a8e131ab6c671f2"
            ],
            "layout": "IPY_MODEL_bbf4f1c426c343cbb44111e458588f02"
          }
        },
        "5f2af84c0b124f8ebbd40e424abcb596": {
          "model_module": "@jupyter-widgets/controls",
          "model_name": "HTMLModel",
          "model_module_version": "1.5.0",
          "state": {
            "_dom_classes": [],
            "_model_module": "@jupyter-widgets/controls",
            "_model_module_version": "1.5.0",
            "_model_name": "HTMLModel",
            "_view_count": null,
            "_view_module": "@jupyter-widgets/controls",
            "_view_module_version": "1.5.0",
            "_view_name": "HTMLView",
            "description": "",
            "description_tooltip": null,
            "layout": "IPY_MODEL_c0aa933f5d6346bca4767b3740965a93",
            "placeholder": "​",
            "style": "IPY_MODEL_5652f77eb684470cb3e330c131afa1a4",
            "value": "Casting the dataset: 100%"
          }
        },
        "bb4fca3b6ef9488bb9af6391657ba54a": {
          "model_module": "@jupyter-widgets/controls",
          "model_name": "FloatProgressModel",
          "model_module_version": "1.5.0",
          "state": {
            "_dom_classes": [],
            "_model_module": "@jupyter-widgets/controls",
            "_model_module_version": "1.5.0",
            "_model_name": "FloatProgressModel",
            "_view_count": null,
            "_view_module": "@jupyter-widgets/controls",
            "_view_module_version": "1.5.0",
            "_view_name": "ProgressView",
            "bar_style": "success",
            "description": "",
            "description_tooltip": null,
            "layout": "IPY_MODEL_836e8aa3d9b543048b610515f63c365b",
            "max": 3822,
            "min": 0,
            "orientation": "horizontal",
            "style": "IPY_MODEL_648f31581e8a4101aae97c2e2b9ba2cc",
            "value": 3822
          }
        },
        "d51f7a590e4d4d678a8e131ab6c671f2": {
          "model_module": "@jupyter-widgets/controls",
          "model_name": "HTMLModel",
          "model_module_version": "1.5.0",
          "state": {
            "_dom_classes": [],
            "_model_module": "@jupyter-widgets/controls",
            "_model_module_version": "1.5.0",
            "_model_name": "HTMLModel",
            "_view_count": null,
            "_view_module": "@jupyter-widgets/controls",
            "_view_module_version": "1.5.0",
            "_view_name": "HTMLView",
            "description": "",
            "description_tooltip": null,
            "layout": "IPY_MODEL_c0747bc372a34d2abaf7c30452e35928",
            "placeholder": "​",
            "style": "IPY_MODEL_33810058c2444fb892288460b9bb0ecc",
            "value": " 3822/3822 [00:00&lt;00:00, 100459.54 examples/s]"
          }
        },
        "bbf4f1c426c343cbb44111e458588f02": {
          "model_module": "@jupyter-widgets/base",
          "model_name": "LayoutModel",
          "model_module_version": "1.2.0",
          "state": {
            "_model_module": "@jupyter-widgets/base",
            "_model_module_version": "1.2.0",
            "_model_name": "LayoutModel",
            "_view_count": null,
            "_view_module": "@jupyter-widgets/base",
            "_view_module_version": "1.2.0",
            "_view_name": "LayoutView",
            "align_content": null,
            "align_items": null,
            "align_self": null,
            "border": null,
            "bottom": null,
            "display": null,
            "flex": null,
            "flex_flow": null,
            "grid_area": null,
            "grid_auto_columns": null,
            "grid_auto_flow": null,
            "grid_auto_rows": null,
            "grid_column": null,
            "grid_gap": null,
            "grid_row": null,
            "grid_template_areas": null,
            "grid_template_columns": null,
            "grid_template_rows": null,
            "height": null,
            "justify_content": null,
            "justify_items": null,
            "left": null,
            "margin": null,
            "max_height": null,
            "max_width": null,
            "min_height": null,
            "min_width": null,
            "object_fit": null,
            "object_position": null,
            "order": null,
            "overflow": null,
            "overflow_x": null,
            "overflow_y": null,
            "padding": null,
            "right": null,
            "top": null,
            "visibility": null,
            "width": null
          }
        },
        "c0aa933f5d6346bca4767b3740965a93": {
          "model_module": "@jupyter-widgets/base",
          "model_name": "LayoutModel",
          "model_module_version": "1.2.0",
          "state": {
            "_model_module": "@jupyter-widgets/base",
            "_model_module_version": "1.2.0",
            "_model_name": "LayoutModel",
            "_view_count": null,
            "_view_module": "@jupyter-widgets/base",
            "_view_module_version": "1.2.0",
            "_view_name": "LayoutView",
            "align_content": null,
            "align_items": null,
            "align_self": null,
            "border": null,
            "bottom": null,
            "display": null,
            "flex": null,
            "flex_flow": null,
            "grid_area": null,
            "grid_auto_columns": null,
            "grid_auto_flow": null,
            "grid_auto_rows": null,
            "grid_column": null,
            "grid_gap": null,
            "grid_row": null,
            "grid_template_areas": null,
            "grid_template_columns": null,
            "grid_template_rows": null,
            "height": null,
            "justify_content": null,
            "justify_items": null,
            "left": null,
            "margin": null,
            "max_height": null,
            "max_width": null,
            "min_height": null,
            "min_width": null,
            "object_fit": null,
            "object_position": null,
            "order": null,
            "overflow": null,
            "overflow_x": null,
            "overflow_y": null,
            "padding": null,
            "right": null,
            "top": null,
            "visibility": null,
            "width": null
          }
        },
        "5652f77eb684470cb3e330c131afa1a4": {
          "model_module": "@jupyter-widgets/controls",
          "model_name": "DescriptionStyleModel",
          "model_module_version": "1.5.0",
          "state": {
            "_model_module": "@jupyter-widgets/controls",
            "_model_module_version": "1.5.0",
            "_model_name": "DescriptionStyleModel",
            "_view_count": null,
            "_view_module": "@jupyter-widgets/base",
            "_view_module_version": "1.2.0",
            "_view_name": "StyleView",
            "description_width": ""
          }
        },
        "836e8aa3d9b543048b610515f63c365b": {
          "model_module": "@jupyter-widgets/base",
          "model_name": "LayoutModel",
          "model_module_version": "1.2.0",
          "state": {
            "_model_module": "@jupyter-widgets/base",
            "_model_module_version": "1.2.0",
            "_model_name": "LayoutModel",
            "_view_count": null,
            "_view_module": "@jupyter-widgets/base",
            "_view_module_version": "1.2.0",
            "_view_name": "LayoutView",
            "align_content": null,
            "align_items": null,
            "align_self": null,
            "border": null,
            "bottom": null,
            "display": null,
            "flex": null,
            "flex_flow": null,
            "grid_area": null,
            "grid_auto_columns": null,
            "grid_auto_flow": null,
            "grid_auto_rows": null,
            "grid_column": null,
            "grid_gap": null,
            "grid_row": null,
            "grid_template_areas": null,
            "grid_template_columns": null,
            "grid_template_rows": null,
            "height": null,
            "justify_content": null,
            "justify_items": null,
            "left": null,
            "margin": null,
            "max_height": null,
            "max_width": null,
            "min_height": null,
            "min_width": null,
            "object_fit": null,
            "object_position": null,
            "order": null,
            "overflow": null,
            "overflow_x": null,
            "overflow_y": null,
            "padding": null,
            "right": null,
            "top": null,
            "visibility": null,
            "width": null
          }
        },
        "648f31581e8a4101aae97c2e2b9ba2cc": {
          "model_module": "@jupyter-widgets/controls",
          "model_name": "ProgressStyleModel",
          "model_module_version": "1.5.0",
          "state": {
            "_model_module": "@jupyter-widgets/controls",
            "_model_module_version": "1.5.0",
            "_model_name": "ProgressStyleModel",
            "_view_count": null,
            "_view_module": "@jupyter-widgets/base",
            "_view_module_version": "1.2.0",
            "_view_name": "StyleView",
            "bar_color": null,
            "description_width": ""
          }
        },
        "c0747bc372a34d2abaf7c30452e35928": {
          "model_module": "@jupyter-widgets/base",
          "model_name": "LayoutModel",
          "model_module_version": "1.2.0",
          "state": {
            "_model_module": "@jupyter-widgets/base",
            "_model_module_version": "1.2.0",
            "_model_name": "LayoutModel",
            "_view_count": null,
            "_view_module": "@jupyter-widgets/base",
            "_view_module_version": "1.2.0",
            "_view_name": "LayoutView",
            "align_content": null,
            "align_items": null,
            "align_self": null,
            "border": null,
            "bottom": null,
            "display": null,
            "flex": null,
            "flex_flow": null,
            "grid_area": null,
            "grid_auto_columns": null,
            "grid_auto_flow": null,
            "grid_auto_rows": null,
            "grid_column": null,
            "grid_gap": null,
            "grid_row": null,
            "grid_template_areas": null,
            "grid_template_columns": null,
            "grid_template_rows": null,
            "height": null,
            "justify_content": null,
            "justify_items": null,
            "left": null,
            "margin": null,
            "max_height": null,
            "max_width": null,
            "min_height": null,
            "min_width": null,
            "object_fit": null,
            "object_position": null,
            "order": null,
            "overflow": null,
            "overflow_x": null,
            "overflow_y": null,
            "padding": null,
            "right": null,
            "top": null,
            "visibility": null,
            "width": null
          }
        },
        "33810058c2444fb892288460b9bb0ecc": {
          "model_module": "@jupyter-widgets/controls",
          "model_name": "DescriptionStyleModel",
          "model_module_version": "1.5.0",
          "state": {
            "_model_module": "@jupyter-widgets/controls",
            "_model_module_version": "1.5.0",
            "_model_name": "DescriptionStyleModel",
            "_view_count": null,
            "_view_module": "@jupyter-widgets/base",
            "_view_module_version": "1.2.0",
            "_view_name": "StyleView",
            "description_width": ""
          }
        },
        "18e393c3bf8f4760b31a6581b252fdcf": {
          "model_module": "@jupyter-widgets/controls",
          "model_name": "HBoxModel",
          "model_module_version": "1.5.0",
          "state": {
            "_dom_classes": [],
            "_model_module": "@jupyter-widgets/controls",
            "_model_module_version": "1.5.0",
            "_model_name": "HBoxModel",
            "_view_count": null,
            "_view_module": "@jupyter-widgets/controls",
            "_view_module_version": "1.5.0",
            "_view_name": "HBoxView",
            "box_style": "",
            "children": [
              "IPY_MODEL_086fb5b785384c329724f871e3d2431e",
              "IPY_MODEL_9d43799724c549f9825bea42f4f3f502",
              "IPY_MODEL_4c2073582269465b97caba23f525d1d4"
            ],
            "layout": "IPY_MODEL_e2d4c67097a644a9bcaf7a1271272c1c"
          }
        },
        "086fb5b785384c329724f871e3d2431e": {
          "model_module": "@jupyter-widgets/controls",
          "model_name": "HTMLModel",
          "model_module_version": "1.5.0",
          "state": {
            "_dom_classes": [],
            "_model_module": "@jupyter-widgets/controls",
            "_model_module_version": "1.5.0",
            "_model_name": "HTMLModel",
            "_view_count": null,
            "_view_module": "@jupyter-widgets/controls",
            "_view_module_version": "1.5.0",
            "_view_name": "HTMLView",
            "description": "",
            "description_tooltip": null,
            "layout": "IPY_MODEL_7b0794563e5e4909b00efa9b696cd53a",
            "placeholder": "​",
            "style": "IPY_MODEL_0a1a730dccd44010be1cb54ffbc7ee40",
            "value": "preprocessor_config.json: 100%"
          }
        },
        "9d43799724c549f9825bea42f4f3f502": {
          "model_module": "@jupyter-widgets/controls",
          "model_name": "FloatProgressModel",
          "model_module_version": "1.5.0",
          "state": {
            "_dom_classes": [],
            "_model_module": "@jupyter-widgets/controls",
            "_model_module_version": "1.5.0",
            "_model_name": "FloatProgressModel",
            "_view_count": null,
            "_view_module": "@jupyter-widgets/controls",
            "_view_module_version": "1.5.0",
            "_view_name": "ProgressView",
            "bar_style": "success",
            "description": "",
            "description_tooltip": null,
            "layout": "IPY_MODEL_f1896c7ed98c4ff29d6fbf51bd785f07",
            "max": 578,
            "min": 0,
            "orientation": "horizontal",
            "style": "IPY_MODEL_632dac146e424fa99a751b4a5196a53a",
            "value": 578
          }
        },
        "4c2073582269465b97caba23f525d1d4": {
          "model_module": "@jupyter-widgets/controls",
          "model_name": "HTMLModel",
          "model_module_version": "1.5.0",
          "state": {
            "_dom_classes": [],
            "_model_module": "@jupyter-widgets/controls",
            "_model_module_version": "1.5.0",
            "_model_name": "HTMLModel",
            "_view_count": null,
            "_view_module": "@jupyter-widgets/controls",
            "_view_module_version": "1.5.0",
            "_view_name": "HTMLView",
            "description": "",
            "description_tooltip": null,
            "layout": "IPY_MODEL_52fb7f7bbe4c4839a513ca78be87532e",
            "placeholder": "​",
            "style": "IPY_MODEL_c8be6f0fa374431cbf0e6a9f5d729e30",
            "value": " 578/578 [00:00&lt;00:00, 14.5kB/s]"
          }
        },
        "e2d4c67097a644a9bcaf7a1271272c1c": {
          "model_module": "@jupyter-widgets/base",
          "model_name": "LayoutModel",
          "model_module_version": "1.2.0",
          "state": {
            "_model_module": "@jupyter-widgets/base",
            "_model_module_version": "1.2.0",
            "_model_name": "LayoutModel",
            "_view_count": null,
            "_view_module": "@jupyter-widgets/base",
            "_view_module_version": "1.2.0",
            "_view_name": "LayoutView",
            "align_content": null,
            "align_items": null,
            "align_self": null,
            "border": null,
            "bottom": null,
            "display": null,
            "flex": null,
            "flex_flow": null,
            "grid_area": null,
            "grid_auto_columns": null,
            "grid_auto_flow": null,
            "grid_auto_rows": null,
            "grid_column": null,
            "grid_gap": null,
            "grid_row": null,
            "grid_template_areas": null,
            "grid_template_columns": null,
            "grid_template_rows": null,
            "height": null,
            "justify_content": null,
            "justify_items": null,
            "left": null,
            "margin": null,
            "max_height": null,
            "max_width": null,
            "min_height": null,
            "min_width": null,
            "object_fit": null,
            "object_position": null,
            "order": null,
            "overflow": null,
            "overflow_x": null,
            "overflow_y": null,
            "padding": null,
            "right": null,
            "top": null,
            "visibility": null,
            "width": null
          }
        },
        "7b0794563e5e4909b00efa9b696cd53a": {
          "model_module": "@jupyter-widgets/base",
          "model_name": "LayoutModel",
          "model_module_version": "1.2.0",
          "state": {
            "_model_module": "@jupyter-widgets/base",
            "_model_module_version": "1.2.0",
            "_model_name": "LayoutModel",
            "_view_count": null,
            "_view_module": "@jupyter-widgets/base",
            "_view_module_version": "1.2.0",
            "_view_name": "LayoutView",
            "align_content": null,
            "align_items": null,
            "align_self": null,
            "border": null,
            "bottom": null,
            "display": null,
            "flex": null,
            "flex_flow": null,
            "grid_area": null,
            "grid_auto_columns": null,
            "grid_auto_flow": null,
            "grid_auto_rows": null,
            "grid_column": null,
            "grid_gap": null,
            "grid_row": null,
            "grid_template_areas": null,
            "grid_template_columns": null,
            "grid_template_rows": null,
            "height": null,
            "justify_content": null,
            "justify_items": null,
            "left": null,
            "margin": null,
            "max_height": null,
            "max_width": null,
            "min_height": null,
            "min_width": null,
            "object_fit": null,
            "object_position": null,
            "order": null,
            "overflow": null,
            "overflow_x": null,
            "overflow_y": null,
            "padding": null,
            "right": null,
            "top": null,
            "visibility": null,
            "width": null
          }
        },
        "0a1a730dccd44010be1cb54ffbc7ee40": {
          "model_module": "@jupyter-widgets/controls",
          "model_name": "DescriptionStyleModel",
          "model_module_version": "1.5.0",
          "state": {
            "_model_module": "@jupyter-widgets/controls",
            "_model_module_version": "1.5.0",
            "_model_name": "DescriptionStyleModel",
            "_view_count": null,
            "_view_module": "@jupyter-widgets/base",
            "_view_module_version": "1.2.0",
            "_view_name": "StyleView",
            "description_width": ""
          }
        },
        "f1896c7ed98c4ff29d6fbf51bd785f07": {
          "model_module": "@jupyter-widgets/base",
          "model_name": "LayoutModel",
          "model_module_version": "1.2.0",
          "state": {
            "_model_module": "@jupyter-widgets/base",
            "_model_module_version": "1.2.0",
            "_model_name": "LayoutModel",
            "_view_count": null,
            "_view_module": "@jupyter-widgets/base",
            "_view_module_version": "1.2.0",
            "_view_name": "LayoutView",
            "align_content": null,
            "align_items": null,
            "align_self": null,
            "border": null,
            "bottom": null,
            "display": null,
            "flex": null,
            "flex_flow": null,
            "grid_area": null,
            "grid_auto_columns": null,
            "grid_auto_flow": null,
            "grid_auto_rows": null,
            "grid_column": null,
            "grid_gap": null,
            "grid_row": null,
            "grid_template_areas": null,
            "grid_template_columns": null,
            "grid_template_rows": null,
            "height": null,
            "justify_content": null,
            "justify_items": null,
            "left": null,
            "margin": null,
            "max_height": null,
            "max_width": null,
            "min_height": null,
            "min_width": null,
            "object_fit": null,
            "object_position": null,
            "order": null,
            "overflow": null,
            "overflow_x": null,
            "overflow_y": null,
            "padding": null,
            "right": null,
            "top": null,
            "visibility": null,
            "width": null
          }
        },
        "632dac146e424fa99a751b4a5196a53a": {
          "model_module": "@jupyter-widgets/controls",
          "model_name": "ProgressStyleModel",
          "model_module_version": "1.5.0",
          "state": {
            "_model_module": "@jupyter-widgets/controls",
            "_model_module_version": "1.5.0",
            "_model_name": "ProgressStyleModel",
            "_view_count": null,
            "_view_module": "@jupyter-widgets/base",
            "_view_module_version": "1.2.0",
            "_view_name": "StyleView",
            "bar_color": null,
            "description_width": ""
          }
        },
        "52fb7f7bbe4c4839a513ca78be87532e": {
          "model_module": "@jupyter-widgets/base",
          "model_name": "LayoutModel",
          "model_module_version": "1.2.0",
          "state": {
            "_model_module": "@jupyter-widgets/base",
            "_model_module_version": "1.2.0",
            "_model_name": "LayoutModel",
            "_view_count": null,
            "_view_module": "@jupyter-widgets/base",
            "_view_module_version": "1.2.0",
            "_view_name": "LayoutView",
            "align_content": null,
            "align_items": null,
            "align_self": null,
            "border": null,
            "bottom": null,
            "display": null,
            "flex": null,
            "flex_flow": null,
            "grid_area": null,
            "grid_auto_columns": null,
            "grid_auto_flow": null,
            "grid_auto_rows": null,
            "grid_column": null,
            "grid_gap": null,
            "grid_row": null,
            "grid_template_areas": null,
            "grid_template_columns": null,
            "grid_template_rows": null,
            "height": null,
            "justify_content": null,
            "justify_items": null,
            "left": null,
            "margin": null,
            "max_height": null,
            "max_width": null,
            "min_height": null,
            "min_width": null,
            "object_fit": null,
            "object_position": null,
            "order": null,
            "overflow": null,
            "overflow_x": null,
            "overflow_y": null,
            "padding": null,
            "right": null,
            "top": null,
            "visibility": null,
            "width": null
          }
        },
        "c8be6f0fa374431cbf0e6a9f5d729e30": {
          "model_module": "@jupyter-widgets/controls",
          "model_name": "DescriptionStyleModel",
          "model_module_version": "1.5.0",
          "state": {
            "_model_module": "@jupyter-widgets/controls",
            "_model_module_version": "1.5.0",
            "_model_name": "DescriptionStyleModel",
            "_view_count": null,
            "_view_module": "@jupyter-widgets/base",
            "_view_module_version": "1.2.0",
            "_view_name": "StyleView",
            "description_width": ""
          }
        },
        "1be520b7b97645789cd5f7195b45eb6b": {
          "model_module": "@jupyter-widgets/controls",
          "model_name": "HBoxModel",
          "model_module_version": "1.5.0",
          "state": {
            "_dom_classes": [],
            "_model_module": "@jupyter-widgets/controls",
            "_model_module_version": "1.5.0",
            "_model_name": "HBoxModel",
            "_view_count": null,
            "_view_module": "@jupyter-widgets/controls",
            "_view_module_version": "1.5.0",
            "_view_name": "HBoxView",
            "box_style": "",
            "children": [
              "IPY_MODEL_b1a32c45aee6462797f86bc0fa1a1757",
              "IPY_MODEL_c928317aa5474bff87fa775c187175f9",
              "IPY_MODEL_299616531f5142f3b8f0328c3bb1b8e7"
            ],
            "layout": "IPY_MODEL_bd979bde1cf14cf88b7c7cd6c77ca764"
          }
        },
        "b1a32c45aee6462797f86bc0fa1a1757": {
          "model_module": "@jupyter-widgets/controls",
          "model_name": "HTMLModel",
          "model_module_version": "1.5.0",
          "state": {
            "_dom_classes": [],
            "_model_module": "@jupyter-widgets/controls",
            "_model_module_version": "1.5.0",
            "_model_name": "HTMLModel",
            "_view_count": null,
            "_view_module": "@jupyter-widgets/controls",
            "_view_module_version": "1.5.0",
            "_view_name": "HTMLView",
            "description": "",
            "description_tooltip": null,
            "layout": "IPY_MODEL_233ec9e78d7f4374bda5e3f0a88b0644",
            "placeholder": "​",
            "style": "IPY_MODEL_e3c932b7c04146c5ab0aae1d1a09c6f3",
            "value": "config.json: 100%"
          }
        },
        "c928317aa5474bff87fa775c187175f9": {
          "model_module": "@jupyter-widgets/controls",
          "model_name": "FloatProgressModel",
          "model_module_version": "1.5.0",
          "state": {
            "_dom_classes": [],
            "_model_module": "@jupyter-widgets/controls",
            "_model_module_version": "1.5.0",
            "_model_name": "FloatProgressModel",
            "_view_count": null,
            "_view_module": "@jupyter-widgets/controls",
            "_view_module_version": "1.5.0",
            "_view_name": "ProgressView",
            "bar_style": "success",
            "description": "",
            "description_tooltip": null,
            "layout": "IPY_MODEL_7d65765ae79d4b528c774d7e92ea7702",
            "max": 754,
            "min": 0,
            "orientation": "horizontal",
            "style": "IPY_MODEL_8bbbd53402754c3f87d12a133ae3f5ce",
            "value": 754
          }
        },
        "299616531f5142f3b8f0328c3bb1b8e7": {
          "model_module": "@jupyter-widgets/controls",
          "model_name": "HTMLModel",
          "model_module_version": "1.5.0",
          "state": {
            "_dom_classes": [],
            "_model_module": "@jupyter-widgets/controls",
            "_model_module_version": "1.5.0",
            "_model_name": "HTMLModel",
            "_view_count": null,
            "_view_module": "@jupyter-widgets/controls",
            "_view_module_version": "1.5.0",
            "_view_name": "HTMLView",
            "description": "",
            "description_tooltip": null,
            "layout": "IPY_MODEL_b22723b4fb2b4c3b9ae49ffe9be482c5",
            "placeholder": "​",
            "style": "IPY_MODEL_bde79c3da0974b979d42ecf3b0ba150c",
            "value": " 754/754 [00:00&lt;00:00, 18.2kB/s]"
          }
        },
        "bd979bde1cf14cf88b7c7cd6c77ca764": {
          "model_module": "@jupyter-widgets/base",
          "model_name": "LayoutModel",
          "model_module_version": "1.2.0",
          "state": {
            "_model_module": "@jupyter-widgets/base",
            "_model_module_version": "1.2.0",
            "_model_name": "LayoutModel",
            "_view_count": null,
            "_view_module": "@jupyter-widgets/base",
            "_view_module_version": "1.2.0",
            "_view_name": "LayoutView",
            "align_content": null,
            "align_items": null,
            "align_self": null,
            "border": null,
            "bottom": null,
            "display": null,
            "flex": null,
            "flex_flow": null,
            "grid_area": null,
            "grid_auto_columns": null,
            "grid_auto_flow": null,
            "grid_auto_rows": null,
            "grid_column": null,
            "grid_gap": null,
            "grid_row": null,
            "grid_template_areas": null,
            "grid_template_columns": null,
            "grid_template_rows": null,
            "height": null,
            "justify_content": null,
            "justify_items": null,
            "left": null,
            "margin": null,
            "max_height": null,
            "max_width": null,
            "min_height": null,
            "min_width": null,
            "object_fit": null,
            "object_position": null,
            "order": null,
            "overflow": null,
            "overflow_x": null,
            "overflow_y": null,
            "padding": null,
            "right": null,
            "top": null,
            "visibility": null,
            "width": null
          }
        },
        "233ec9e78d7f4374bda5e3f0a88b0644": {
          "model_module": "@jupyter-widgets/base",
          "model_name": "LayoutModel",
          "model_module_version": "1.2.0",
          "state": {
            "_model_module": "@jupyter-widgets/base",
            "_model_module_version": "1.2.0",
            "_model_name": "LayoutModel",
            "_view_count": null,
            "_view_module": "@jupyter-widgets/base",
            "_view_module_version": "1.2.0",
            "_view_name": "LayoutView",
            "align_content": null,
            "align_items": null,
            "align_self": null,
            "border": null,
            "bottom": null,
            "display": null,
            "flex": null,
            "flex_flow": null,
            "grid_area": null,
            "grid_auto_columns": null,
            "grid_auto_flow": null,
            "grid_auto_rows": null,
            "grid_column": null,
            "grid_gap": null,
            "grid_row": null,
            "grid_template_areas": null,
            "grid_template_columns": null,
            "grid_template_rows": null,
            "height": null,
            "justify_content": null,
            "justify_items": null,
            "left": null,
            "margin": null,
            "max_height": null,
            "max_width": null,
            "min_height": null,
            "min_width": null,
            "object_fit": null,
            "object_position": null,
            "order": null,
            "overflow": null,
            "overflow_x": null,
            "overflow_y": null,
            "padding": null,
            "right": null,
            "top": null,
            "visibility": null,
            "width": null
          }
        },
        "e3c932b7c04146c5ab0aae1d1a09c6f3": {
          "model_module": "@jupyter-widgets/controls",
          "model_name": "DescriptionStyleModel",
          "model_module_version": "1.5.0",
          "state": {
            "_model_module": "@jupyter-widgets/controls",
            "_model_module_version": "1.5.0",
            "_model_name": "DescriptionStyleModel",
            "_view_count": null,
            "_view_module": "@jupyter-widgets/base",
            "_view_module_version": "1.2.0",
            "_view_name": "StyleView",
            "description_width": ""
          }
        },
        "7d65765ae79d4b528c774d7e92ea7702": {
          "model_module": "@jupyter-widgets/base",
          "model_name": "LayoutModel",
          "model_module_version": "1.2.0",
          "state": {
            "_model_module": "@jupyter-widgets/base",
            "_model_module_version": "1.2.0",
            "_model_name": "LayoutModel",
            "_view_count": null,
            "_view_module": "@jupyter-widgets/base",
            "_view_module_version": "1.2.0",
            "_view_name": "LayoutView",
            "align_content": null,
            "align_items": null,
            "align_self": null,
            "border": null,
            "bottom": null,
            "display": null,
            "flex": null,
            "flex_flow": null,
            "grid_area": null,
            "grid_auto_columns": null,
            "grid_auto_flow": null,
            "grid_auto_rows": null,
            "grid_column": null,
            "grid_gap": null,
            "grid_row": null,
            "grid_template_areas": null,
            "grid_template_columns": null,
            "grid_template_rows": null,
            "height": null,
            "justify_content": null,
            "justify_items": null,
            "left": null,
            "margin": null,
            "max_height": null,
            "max_width": null,
            "min_height": null,
            "min_width": null,
            "object_fit": null,
            "object_position": null,
            "order": null,
            "overflow": null,
            "overflow_x": null,
            "overflow_y": null,
            "padding": null,
            "right": null,
            "top": null,
            "visibility": null,
            "width": null
          }
        },
        "8bbbd53402754c3f87d12a133ae3f5ce": {
          "model_module": "@jupyter-widgets/controls",
          "model_name": "ProgressStyleModel",
          "model_module_version": "1.5.0",
          "state": {
            "_model_module": "@jupyter-widgets/controls",
            "_model_module_version": "1.5.0",
            "_model_name": "ProgressStyleModel",
            "_view_count": null,
            "_view_module": "@jupyter-widgets/base",
            "_view_module_version": "1.2.0",
            "_view_name": "StyleView",
            "bar_color": null,
            "description_width": ""
          }
        },
        "b22723b4fb2b4c3b9ae49ffe9be482c5": {
          "model_module": "@jupyter-widgets/base",
          "model_name": "LayoutModel",
          "model_module_version": "1.2.0",
          "state": {
            "_model_module": "@jupyter-widgets/base",
            "_model_module_version": "1.2.0",
            "_model_name": "LayoutModel",
            "_view_count": null,
            "_view_module": "@jupyter-widgets/base",
            "_view_module_version": "1.2.0",
            "_view_name": "LayoutView",
            "align_content": null,
            "align_items": null,
            "align_self": null,
            "border": null,
            "bottom": null,
            "display": null,
            "flex": null,
            "flex_flow": null,
            "grid_area": null,
            "grid_auto_columns": null,
            "grid_auto_flow": null,
            "grid_auto_rows": null,
            "grid_column": null,
            "grid_gap": null,
            "grid_row": null,
            "grid_template_areas": null,
            "grid_template_columns": null,
            "grid_template_rows": null,
            "height": null,
            "justify_content": null,
            "justify_items": null,
            "left": null,
            "margin": null,
            "max_height": null,
            "max_width": null,
            "min_height": null,
            "min_width": null,
            "object_fit": null,
            "object_position": null,
            "order": null,
            "overflow": null,
            "overflow_x": null,
            "overflow_y": null,
            "padding": null,
            "right": null,
            "top": null,
            "visibility": null,
            "width": null
          }
        },
        "bde79c3da0974b979d42ecf3b0ba150c": {
          "model_module": "@jupyter-widgets/controls",
          "model_name": "DescriptionStyleModel",
          "model_module_version": "1.5.0",
          "state": {
            "_model_module": "@jupyter-widgets/controls",
            "_model_module_version": "1.5.0",
            "_model_name": "DescriptionStyleModel",
            "_view_count": null,
            "_view_module": "@jupyter-widgets/base",
            "_view_module_version": "1.2.0",
            "_view_name": "StyleView",
            "description_width": ""
          }
        },
        "8a9823180aeb4b3ab000b40ce23a77c2": {
          "model_module": "@jupyter-widgets/controls",
          "model_name": "HBoxModel",
          "model_module_version": "1.5.0",
          "state": {
            "_dom_classes": [],
            "_model_module": "@jupyter-widgets/controls",
            "_model_module_version": "1.5.0",
            "_model_name": "HBoxModel",
            "_view_count": null,
            "_view_module": "@jupyter-widgets/controls",
            "_view_module_version": "1.5.0",
            "_view_name": "HBoxView",
            "box_style": "",
            "children": [
              "IPY_MODEL_075e7e85d66c4f32a1d5bef6008c0c67",
              "IPY_MODEL_fab5cfa690f140faabfc82167384257c",
              "IPY_MODEL_f8647528b8d44b728eadafa72c25dac4"
            ],
            "layout": "IPY_MODEL_52e85ddc6e044801b1aa80d90a88968f"
          }
        },
        "075e7e85d66c4f32a1d5bef6008c0c67": {
          "model_module": "@jupyter-widgets/controls",
          "model_name": "HTMLModel",
          "model_module_version": "1.5.0",
          "state": {
            "_dom_classes": [],
            "_model_module": "@jupyter-widgets/controls",
            "_model_module_version": "1.5.0",
            "_model_name": "HTMLModel",
            "_view_count": null,
            "_view_module": "@jupyter-widgets/controls",
            "_view_module_version": "1.5.0",
            "_view_name": "HTMLView",
            "description": "",
            "description_tooltip": null,
            "layout": "IPY_MODEL_99d4dce597e941dda1419d5686192042",
            "placeholder": "​",
            "style": "IPY_MODEL_5572a012ad254a1881040f00e107dccf",
            "value": "model.safetensors: 100%"
          }
        },
        "fab5cfa690f140faabfc82167384257c": {
          "model_module": "@jupyter-widgets/controls",
          "model_name": "FloatProgressModel",
          "model_module_version": "1.5.0",
          "state": {
            "_dom_classes": [],
            "_model_module": "@jupyter-widgets/controls",
            "_model_module_version": "1.5.0",
            "_model_name": "FloatProgressModel",
            "_view_count": null,
            "_view_module": "@jupyter-widgets/controls",
            "_view_module_version": "1.5.0",
            "_view_name": "ProgressView",
            "bar_style": "success",
            "description": "",
            "description_tooltip": null,
            "layout": "IPY_MODEL_2fa903ce6b0a471892c361ab2e916e62",
            "max": 343227052,
            "min": 0,
            "orientation": "horizontal",
            "style": "IPY_MODEL_9f688b0decd440819eb268adabee6705",
            "value": 343227052
          }
        },
        "f8647528b8d44b728eadafa72c25dac4": {
          "model_module": "@jupyter-widgets/controls",
          "model_name": "HTMLModel",
          "model_module_version": "1.5.0",
          "state": {
            "_dom_classes": [],
            "_model_module": "@jupyter-widgets/controls",
            "_model_module_version": "1.5.0",
            "_model_name": "HTMLModel",
            "_view_count": null,
            "_view_module": "@jupyter-widgets/controls",
            "_view_module_version": "1.5.0",
            "_view_name": "HTMLView",
            "description": "",
            "description_tooltip": null,
            "layout": "IPY_MODEL_a0904c058ef94996ab8e80044a962e03",
            "placeholder": "​",
            "style": "IPY_MODEL_57b9d2c092ca46828885529b29807f56",
            "value": " 343M/343M [00:12&lt;00:00, 32.0MB/s]"
          }
        },
        "52e85ddc6e044801b1aa80d90a88968f": {
          "model_module": "@jupyter-widgets/base",
          "model_name": "LayoutModel",
          "model_module_version": "1.2.0",
          "state": {
            "_model_module": "@jupyter-widgets/base",
            "_model_module_version": "1.2.0",
            "_model_name": "LayoutModel",
            "_view_count": null,
            "_view_module": "@jupyter-widgets/base",
            "_view_module_version": "1.2.0",
            "_view_name": "LayoutView",
            "align_content": null,
            "align_items": null,
            "align_self": null,
            "border": null,
            "bottom": null,
            "display": null,
            "flex": null,
            "flex_flow": null,
            "grid_area": null,
            "grid_auto_columns": null,
            "grid_auto_flow": null,
            "grid_auto_rows": null,
            "grid_column": null,
            "grid_gap": null,
            "grid_row": null,
            "grid_template_areas": null,
            "grid_template_columns": null,
            "grid_template_rows": null,
            "height": null,
            "justify_content": null,
            "justify_items": null,
            "left": null,
            "margin": null,
            "max_height": null,
            "max_width": null,
            "min_height": null,
            "min_width": null,
            "object_fit": null,
            "object_position": null,
            "order": null,
            "overflow": null,
            "overflow_x": null,
            "overflow_y": null,
            "padding": null,
            "right": null,
            "top": null,
            "visibility": null,
            "width": null
          }
        },
        "99d4dce597e941dda1419d5686192042": {
          "model_module": "@jupyter-widgets/base",
          "model_name": "LayoutModel",
          "model_module_version": "1.2.0",
          "state": {
            "_model_module": "@jupyter-widgets/base",
            "_model_module_version": "1.2.0",
            "_model_name": "LayoutModel",
            "_view_count": null,
            "_view_module": "@jupyter-widgets/base",
            "_view_module_version": "1.2.0",
            "_view_name": "LayoutView",
            "align_content": null,
            "align_items": null,
            "align_self": null,
            "border": null,
            "bottom": null,
            "display": null,
            "flex": null,
            "flex_flow": null,
            "grid_area": null,
            "grid_auto_columns": null,
            "grid_auto_flow": null,
            "grid_auto_rows": null,
            "grid_column": null,
            "grid_gap": null,
            "grid_row": null,
            "grid_template_areas": null,
            "grid_template_columns": null,
            "grid_template_rows": null,
            "height": null,
            "justify_content": null,
            "justify_items": null,
            "left": null,
            "margin": null,
            "max_height": null,
            "max_width": null,
            "min_height": null,
            "min_width": null,
            "object_fit": null,
            "object_position": null,
            "order": null,
            "overflow": null,
            "overflow_x": null,
            "overflow_y": null,
            "padding": null,
            "right": null,
            "top": null,
            "visibility": null,
            "width": null
          }
        },
        "5572a012ad254a1881040f00e107dccf": {
          "model_module": "@jupyter-widgets/controls",
          "model_name": "DescriptionStyleModel",
          "model_module_version": "1.5.0",
          "state": {
            "_model_module": "@jupyter-widgets/controls",
            "_model_module_version": "1.5.0",
            "_model_name": "DescriptionStyleModel",
            "_view_count": null,
            "_view_module": "@jupyter-widgets/base",
            "_view_module_version": "1.2.0",
            "_view_name": "StyleView",
            "description_width": ""
          }
        },
        "2fa903ce6b0a471892c361ab2e916e62": {
          "model_module": "@jupyter-widgets/base",
          "model_name": "LayoutModel",
          "model_module_version": "1.2.0",
          "state": {
            "_model_module": "@jupyter-widgets/base",
            "_model_module_version": "1.2.0",
            "_model_name": "LayoutModel",
            "_view_count": null,
            "_view_module": "@jupyter-widgets/base",
            "_view_module_version": "1.2.0",
            "_view_name": "LayoutView",
            "align_content": null,
            "align_items": null,
            "align_self": null,
            "border": null,
            "bottom": null,
            "display": null,
            "flex": null,
            "flex_flow": null,
            "grid_area": null,
            "grid_auto_columns": null,
            "grid_auto_flow": null,
            "grid_auto_rows": null,
            "grid_column": null,
            "grid_gap": null,
            "grid_row": null,
            "grid_template_areas": null,
            "grid_template_columns": null,
            "grid_template_rows": null,
            "height": null,
            "justify_content": null,
            "justify_items": null,
            "left": null,
            "margin": null,
            "max_height": null,
            "max_width": null,
            "min_height": null,
            "min_width": null,
            "object_fit": null,
            "object_position": null,
            "order": null,
            "overflow": null,
            "overflow_x": null,
            "overflow_y": null,
            "padding": null,
            "right": null,
            "top": null,
            "visibility": null,
            "width": null
          }
        },
        "9f688b0decd440819eb268adabee6705": {
          "model_module": "@jupyter-widgets/controls",
          "model_name": "ProgressStyleModel",
          "model_module_version": "1.5.0",
          "state": {
            "_model_module": "@jupyter-widgets/controls",
            "_model_module_version": "1.5.0",
            "_model_name": "ProgressStyleModel",
            "_view_count": null,
            "_view_module": "@jupyter-widgets/base",
            "_view_module_version": "1.2.0",
            "_view_name": "StyleView",
            "bar_color": null,
            "description_width": ""
          }
        },
        "a0904c058ef94996ab8e80044a962e03": {
          "model_module": "@jupyter-widgets/base",
          "model_name": "LayoutModel",
          "model_module_version": "1.2.0",
          "state": {
            "_model_module": "@jupyter-widgets/base",
            "_model_module_version": "1.2.0",
            "_model_name": "LayoutModel",
            "_view_count": null,
            "_view_module": "@jupyter-widgets/base",
            "_view_module_version": "1.2.0",
            "_view_name": "LayoutView",
            "align_content": null,
            "align_items": null,
            "align_self": null,
            "border": null,
            "bottom": null,
            "display": null,
            "flex": null,
            "flex_flow": null,
            "grid_area": null,
            "grid_auto_columns": null,
            "grid_auto_flow": null,
            "grid_auto_rows": null,
            "grid_column": null,
            "grid_gap": null,
            "grid_row": null,
            "grid_template_areas": null,
            "grid_template_columns": null,
            "grid_template_rows": null,
            "height": null,
            "justify_content": null,
            "justify_items": null,
            "left": null,
            "margin": null,
            "max_height": null,
            "max_width": null,
            "min_height": null,
            "min_width": null,
            "object_fit": null,
            "object_position": null,
            "order": null,
            "overflow": null,
            "overflow_x": null,
            "overflow_y": null,
            "padding": null,
            "right": null,
            "top": null,
            "visibility": null,
            "width": null
          }
        },
        "57b9d2c092ca46828885529b29807f56": {
          "model_module": "@jupyter-widgets/controls",
          "model_name": "DescriptionStyleModel",
          "model_module_version": "1.5.0",
          "state": {
            "_model_module": "@jupyter-widgets/controls",
            "_model_module_version": "1.5.0",
            "_model_name": "DescriptionStyleModel",
            "_view_count": null,
            "_view_module": "@jupyter-widgets/base",
            "_view_module_version": "1.2.0",
            "_view_name": "StyleView",
            "description_width": ""
          }
        },
        "c8ed88872f6f467fab11c609ea35c75f": {
          "model_module": "@jupyter-widgets/controls",
          "model_name": "HBoxModel",
          "model_module_version": "1.5.0",
          "state": {
            "_dom_classes": [],
            "_model_module": "@jupyter-widgets/controls",
            "_model_module_version": "1.5.0",
            "_model_name": "HBoxModel",
            "_view_count": null,
            "_view_module": "@jupyter-widgets/controls",
            "_view_module_version": "1.5.0",
            "_view_name": "HBoxView",
            "box_style": "",
            "children": [
              "IPY_MODEL_690c862c036a4e68aa42d7024d8c2f30",
              "IPY_MODEL_c0523cdbe430406381179c6d3618ef70",
              "IPY_MODEL_5bcc0c9eb75446a3b8b220ccd21489cb"
            ],
            "layout": "IPY_MODEL_fd976963bb254a5188be2fa77b219fb0"
          }
        },
        "690c862c036a4e68aa42d7024d8c2f30": {
          "model_module": "@jupyter-widgets/controls",
          "model_name": "HTMLModel",
          "model_module_version": "1.5.0",
          "state": {
            "_dom_classes": [],
            "_model_module": "@jupyter-widgets/controls",
            "_model_module_version": "1.5.0",
            "_model_name": "HTMLModel",
            "_view_count": null,
            "_view_module": "@jupyter-widgets/controls",
            "_view_module_version": "1.5.0",
            "_view_name": "HTMLView",
            "description": "",
            "description_tooltip": null,
            "layout": "IPY_MODEL_803cf4f293f14b2ebf55d15fb6984180",
            "placeholder": "​",
            "style": "IPY_MODEL_8251201378fe40afa6c2beac55a0e823",
            "value": "Downloading builder script: 100%"
          }
        },
        "c0523cdbe430406381179c6d3618ef70": {
          "model_module": "@jupyter-widgets/controls",
          "model_name": "FloatProgressModel",
          "model_module_version": "1.5.0",
          "state": {
            "_dom_classes": [],
            "_model_module": "@jupyter-widgets/controls",
            "_model_module_version": "1.5.0",
            "_model_name": "FloatProgressModel",
            "_view_count": null,
            "_view_module": "@jupyter-widgets/controls",
            "_view_module_version": "1.5.0",
            "_view_name": "ProgressView",
            "bar_style": "success",
            "description": "",
            "description_tooltip": null,
            "layout": "IPY_MODEL_d7dce0d0361740c9b25f124be52a53e6",
            "max": 4203,
            "min": 0,
            "orientation": "horizontal",
            "style": "IPY_MODEL_a72c83f22c2c467f8d9c218bd981490c",
            "value": 4203
          }
        },
        "5bcc0c9eb75446a3b8b220ccd21489cb": {
          "model_module": "@jupyter-widgets/controls",
          "model_name": "HTMLModel",
          "model_module_version": "1.5.0",
          "state": {
            "_dom_classes": [],
            "_model_module": "@jupyter-widgets/controls",
            "_model_module_version": "1.5.0",
            "_model_name": "HTMLModel",
            "_view_count": null,
            "_view_module": "@jupyter-widgets/controls",
            "_view_module_version": "1.5.0",
            "_view_name": "HTMLView",
            "description": "",
            "description_tooltip": null,
            "layout": "IPY_MODEL_0e190f18051f477c9914f4105b9ec19b",
            "placeholder": "​",
            "style": "IPY_MODEL_26701018606043a7aa41606cc3a70b0b",
            "value": " 4.20k/4.20k [00:00&lt;00:00, 75.2kB/s]"
          }
        },
        "fd976963bb254a5188be2fa77b219fb0": {
          "model_module": "@jupyter-widgets/base",
          "model_name": "LayoutModel",
          "model_module_version": "1.2.0",
          "state": {
            "_model_module": "@jupyter-widgets/base",
            "_model_module_version": "1.2.0",
            "_model_name": "LayoutModel",
            "_view_count": null,
            "_view_module": "@jupyter-widgets/base",
            "_view_module_version": "1.2.0",
            "_view_name": "LayoutView",
            "align_content": null,
            "align_items": null,
            "align_self": null,
            "border": null,
            "bottom": null,
            "display": null,
            "flex": null,
            "flex_flow": null,
            "grid_area": null,
            "grid_auto_columns": null,
            "grid_auto_flow": null,
            "grid_auto_rows": null,
            "grid_column": null,
            "grid_gap": null,
            "grid_row": null,
            "grid_template_areas": null,
            "grid_template_columns": null,
            "grid_template_rows": null,
            "height": null,
            "justify_content": null,
            "justify_items": null,
            "left": null,
            "margin": null,
            "max_height": null,
            "max_width": null,
            "min_height": null,
            "min_width": null,
            "object_fit": null,
            "object_position": null,
            "order": null,
            "overflow": null,
            "overflow_x": null,
            "overflow_y": null,
            "padding": null,
            "right": null,
            "top": null,
            "visibility": null,
            "width": null
          }
        },
        "803cf4f293f14b2ebf55d15fb6984180": {
          "model_module": "@jupyter-widgets/base",
          "model_name": "LayoutModel",
          "model_module_version": "1.2.0",
          "state": {
            "_model_module": "@jupyter-widgets/base",
            "_model_module_version": "1.2.0",
            "_model_name": "LayoutModel",
            "_view_count": null,
            "_view_module": "@jupyter-widgets/base",
            "_view_module_version": "1.2.0",
            "_view_name": "LayoutView",
            "align_content": null,
            "align_items": null,
            "align_self": null,
            "border": null,
            "bottom": null,
            "display": null,
            "flex": null,
            "flex_flow": null,
            "grid_area": null,
            "grid_auto_columns": null,
            "grid_auto_flow": null,
            "grid_auto_rows": null,
            "grid_column": null,
            "grid_gap": null,
            "grid_row": null,
            "grid_template_areas": null,
            "grid_template_columns": null,
            "grid_template_rows": null,
            "height": null,
            "justify_content": null,
            "justify_items": null,
            "left": null,
            "margin": null,
            "max_height": null,
            "max_width": null,
            "min_height": null,
            "min_width": null,
            "object_fit": null,
            "object_position": null,
            "order": null,
            "overflow": null,
            "overflow_x": null,
            "overflow_y": null,
            "padding": null,
            "right": null,
            "top": null,
            "visibility": null,
            "width": null
          }
        },
        "8251201378fe40afa6c2beac55a0e823": {
          "model_module": "@jupyter-widgets/controls",
          "model_name": "DescriptionStyleModel",
          "model_module_version": "1.5.0",
          "state": {
            "_model_module": "@jupyter-widgets/controls",
            "_model_module_version": "1.5.0",
            "_model_name": "DescriptionStyleModel",
            "_view_count": null,
            "_view_module": "@jupyter-widgets/base",
            "_view_module_version": "1.2.0",
            "_view_name": "StyleView",
            "description_width": ""
          }
        },
        "d7dce0d0361740c9b25f124be52a53e6": {
          "model_module": "@jupyter-widgets/base",
          "model_name": "LayoutModel",
          "model_module_version": "1.2.0",
          "state": {
            "_model_module": "@jupyter-widgets/base",
            "_model_module_version": "1.2.0",
            "_model_name": "LayoutModel",
            "_view_count": null,
            "_view_module": "@jupyter-widgets/base",
            "_view_module_version": "1.2.0",
            "_view_name": "LayoutView",
            "align_content": null,
            "align_items": null,
            "align_self": null,
            "border": null,
            "bottom": null,
            "display": null,
            "flex": null,
            "flex_flow": null,
            "grid_area": null,
            "grid_auto_columns": null,
            "grid_auto_flow": null,
            "grid_auto_rows": null,
            "grid_column": null,
            "grid_gap": null,
            "grid_row": null,
            "grid_template_areas": null,
            "grid_template_columns": null,
            "grid_template_rows": null,
            "height": null,
            "justify_content": null,
            "justify_items": null,
            "left": null,
            "margin": null,
            "max_height": null,
            "max_width": null,
            "min_height": null,
            "min_width": null,
            "object_fit": null,
            "object_position": null,
            "order": null,
            "overflow": null,
            "overflow_x": null,
            "overflow_y": null,
            "padding": null,
            "right": null,
            "top": null,
            "visibility": null,
            "width": null
          }
        },
        "a72c83f22c2c467f8d9c218bd981490c": {
          "model_module": "@jupyter-widgets/controls",
          "model_name": "ProgressStyleModel",
          "model_module_version": "1.5.0",
          "state": {
            "_model_module": "@jupyter-widgets/controls",
            "_model_module_version": "1.5.0",
            "_model_name": "ProgressStyleModel",
            "_view_count": null,
            "_view_module": "@jupyter-widgets/base",
            "_view_module_version": "1.2.0",
            "_view_name": "StyleView",
            "bar_color": null,
            "description_width": ""
          }
        },
        "0e190f18051f477c9914f4105b9ec19b": {
          "model_module": "@jupyter-widgets/base",
          "model_name": "LayoutModel",
          "model_module_version": "1.2.0",
          "state": {
            "_model_module": "@jupyter-widgets/base",
            "_model_module_version": "1.2.0",
            "_model_name": "LayoutModel",
            "_view_count": null,
            "_view_module": "@jupyter-widgets/base",
            "_view_module_version": "1.2.0",
            "_view_name": "LayoutView",
            "align_content": null,
            "align_items": null,
            "align_self": null,
            "border": null,
            "bottom": null,
            "display": null,
            "flex": null,
            "flex_flow": null,
            "grid_area": null,
            "grid_auto_columns": null,
            "grid_auto_flow": null,
            "grid_auto_rows": null,
            "grid_column": null,
            "grid_gap": null,
            "grid_row": null,
            "grid_template_areas": null,
            "grid_template_columns": null,
            "grid_template_rows": null,
            "height": null,
            "justify_content": null,
            "justify_items": null,
            "left": null,
            "margin": null,
            "max_height": null,
            "max_width": null,
            "min_height": null,
            "min_width": null,
            "object_fit": null,
            "object_position": null,
            "order": null,
            "overflow": null,
            "overflow_x": null,
            "overflow_y": null,
            "padding": null,
            "right": null,
            "top": null,
            "visibility": null,
            "width": null
          }
        },
        "26701018606043a7aa41606cc3a70b0b": {
          "model_module": "@jupyter-widgets/controls",
          "model_name": "DescriptionStyleModel",
          "model_module_version": "1.5.0",
          "state": {
            "_model_module": "@jupyter-widgets/controls",
            "_model_module_version": "1.5.0",
            "_model_name": "DescriptionStyleModel",
            "_view_count": null,
            "_view_module": "@jupyter-widgets/base",
            "_view_module_version": "1.2.0",
            "_view_name": "StyleView",
            "description_width": ""
          }
        }
      }
    }
  },
  "nbformat_minor": 0,
  "nbformat": 4,
  "cells": [
    {
      "cell_type": "markdown",
      "source": [
        "# Import libraries, load and transform data"
      ],
      "metadata": {
        "id": "opfpPOJqzGF3"
      }
    },
    {
      "cell_type": "code",
      "source": [
        "from google.colab import drive\n",
        "drive.mount('/content/drive')"
      ],
      "metadata": {
        "colab": {
          "base_uri": "https://localhost:8080/"
        },
        "id": "9iV5k5p1zMdH",
        "outputId": "938c815f-add2-4bf1-a49c-9dd8cbd523f2"
      },
      "execution_count": null,
      "outputs": [
        {
          "output_type": "stream",
          "name": "stdout",
          "text": [
            "Mounted at /content/drive\n"
          ]
        }
      ]
    },
    {
      "cell_type": "code",
      "source": [
        "!pip install -U -q evaluate transformers datasets>=2.14.5 accelerate>=0.27 2>/dev/null"
      ],
      "metadata": {
        "execution": {
          "iopub.status.busy": "2024-04-27T10:15:13.349473Z",
          "iopub.execute_input": "2024-04-27T10:15:13.349823Z",
          "iopub.status.idle": "2024-04-27T10:15:52.772725Z",
          "shell.execute_reply.started": "2024-04-27T10:15:13.349785Z",
          "shell.execute_reply": "2024-04-27T10:15:52.771393Z"
        },
        "trusted": true,
        "id": "dfws3VKlzGF4"
      },
      "execution_count": null,
      "outputs": []
    },
    {
      "cell_type": "code",
      "source": [
        "# Importing necessary libraries and modules\n",
        "import warnings  # Import the 'warnings' module for handling warnings\n",
        "warnings.filterwarnings(\"ignore\")  # Ignore warnings during execution\n",
        "\n",
        "import gc  # Import the 'gc' module for garbage collection\n",
        "import numpy as np  # Import NumPy for numerical operations\n",
        "import pandas as pd  # Import Pandas for data manipulation\n",
        "import itertools  # Import 'itertools' for iterators and looping\n",
        "from collections import Counter  # Import 'Counter' for counting elements\n",
        "import matplotlib.pyplot as plt  # Import Matplotlib for data visualization\n",
        "from sklearn.metrics import (  # Import various metrics from scikit-learn\n",
        "    accuracy_score,  # For calculating accuracy\n",
        "    roc_auc_score,  # For ROC AUC score\n",
        "    confusion_matrix,  # For confusion matrix\n",
        "    classification_report,  # For classification report\n",
        "    f1_score  # For F1 score\n",
        ")\n",
        "\n",
        "# Import custom modules and classes\n",
        "from imblearn.over_sampling import RandomOverSampler # import RandomOverSampler\n",
        "from imblearn.under_sampling import RandomUnderSampler # import RandomUnderSampler\n",
        "import accelerate # Import the 'accelerate' module\n",
        "import evaluate  # Import the 'evaluate' module\n",
        "from datasets import Dataset, Image, ClassLabel  # Import custom 'Dataset', 'ClassLabel', and 'Image' classes\n",
        "from transformers import (  # Import various modules from the Transformers library\n",
        "    TrainingArguments,  # For training arguments\n",
        "    Trainer,  # For model training\n",
        "    ViTImageProcessor,  # For processing image data with ViT models\n",
        "    ViTForImageClassification,  # ViT model for image classification\n",
        "    DefaultDataCollator  # For collating data in the default way\n",
        ")\n",
        "import torch  # Import PyTorch for deep learning\n",
        "from torch.utils.data import DataLoader  # For creating data loaders\n",
        "from torchvision.transforms import (  # Import image transformation functions\n",
        "    CenterCrop,  # Center crop an image\n",
        "    Compose,  # Compose multiple image transformations\n",
        "    Normalize,  # Normalize image pixel values\n",
        "    RandomRotation,  # Apply random rotation to images\n",
        "    RandomResizedCrop,  # Crop and resize images randomly\n",
        "    RandomHorizontalFlip,  # Apply random horizontal flip\n",
        "    RandomAdjustSharpness,  # Adjust sharpness randomly\n",
        "    Resize,  # Resize images\n",
        "    ToTensor  # Convert images to PyTorch tensors\n",
        ")"
      ],
      "metadata": {
        "execution": {
          "iopub.status.busy": "2024-04-27T10:15:52.775281Z",
          "iopub.execute_input": "2024-04-27T10:15:52.775578Z",
          "iopub.status.idle": "2024-04-27T10:16:10.279710Z",
          "shell.execute_reply.started": "2024-04-27T10:15:52.775549Z",
          "shell.execute_reply": "2024-04-27T10:16:10.278941Z"
        },
        "trusted": true,
        "id": "9HGQ9W-ezGF5"
      },
      "execution_count": null,
      "outputs": []
    },
    {
      "cell_type": "code",
      "source": [
        "# Import the necessary module from the Python Imaging Library (PIL).\n",
        "from PIL import ImageFile\n",
        "\n",
        "# Enable the option to load truncated images.\n",
        "# This setting allows the PIL library to attempt loading images even if they are corrupted or incomplete.\n",
        "ImageFile.LOAD_TRUNCATED_IMAGES = True"
      ],
      "metadata": {
        "execution": {
          "iopub.status.busy": "2024-04-27T10:16:10.280934Z",
          "iopub.execute_input": "2024-04-27T10:16:10.281683Z",
          "iopub.status.idle": "2024-04-27T10:16:10.286717Z",
          "shell.execute_reply.started": "2024-04-27T10:16:10.281650Z",
          "shell.execute_reply": "2024-04-27T10:16:10.285728Z"
        },
        "trusted": true,
        "id": "nXM94O5szGF5"
      },
      "execution_count": null,
      "outputs": []
    },
    {
      "cell_type": "code",
      "source": [
        "\n",
        "# Import necessary libraries\n",
        "image_dict = {}\n",
        "\n",
        "# Define the list of file names\n",
        "from pathlib import Path\n",
        "from tqdm import tqdm\n",
        "import os\n",
        "# Initialize empty lists to store file names and labels\n",
        "file_names = []\n",
        "labels = []\n",
        "# Iterate through all image files in the specified directory\n",
        "for file in tqdm(sorted((Path('/content/drive/MyDrive/Oily-Dry-Skin-Types/').glob('*/*/*.*')))):\n",
        "    if str(file).endswith('pg') or str(file).endswith('png'):\n",
        "        file_names.append(str(file))  # Add the file path to the list\n",
        "        label = str(file).split('/')[-2]  # Extract the label from the file path\n",
        "        labels.append(label)  # Add the label to the list\n",
        "\n",
        "# Print the total number of file names and labels\n",
        "print(len(file_names), len(labels), len(set(labels)))\n",
        "\n",
        "# Create a pandas dataframe from the collected file names and labels\n",
        "df = pd.DataFrame.from_dict({\"image\": file_names, \"label\": labels})"
      ],
      "metadata": {
        "execution": {
          "iopub.status.busy": "2024-04-27T10:16:10.289429Z",
          "iopub.execute_input": "2024-04-27T10:16:10.289754Z",
          "iopub.status.idle": "2024-04-27T10:16:10.630834Z",
          "shell.execute_reply.started": "2024-04-27T10:16:10.289725Z",
          "shell.execute_reply": "2024-04-27T10:16:10.629923Z"
        },
        "trusted": true,
        "colab": {
          "base_uri": "https://localhost:8080/"
        },
        "id": "zfuDB8l5zGF5",
        "outputId": "21ca1c37-cad0-4c7c-8cd4-8e2c075da871"
      },
      "execution_count": null,
      "outputs": [
        {
          "output_type": "stream",
          "name": "stderr",
          "text": [
            "100%|██████████| 3152/3152 [00:00<00:00, 164000.97it/s]"
          ]
        },
        {
          "output_type": "stream",
          "name": "stdout",
          "text": [
            "3152 3152 3\n"
          ]
        },
        {
          "output_type": "stream",
          "name": "stderr",
          "text": [
            "\n"
          ]
        }
      ]
    },
    {
      "cell_type": "code",
      "source": [
        "df['label'].unique()"
      ],
      "metadata": {
        "execution": {
          "iopub.status.busy": "2024-04-27T10:16:10.631995Z",
          "iopub.execute_input": "2024-04-27T10:16:10.632312Z",
          "iopub.status.idle": "2024-04-27T10:16:10.644510Z",
          "shell.execute_reply.started": "2024-04-27T10:16:10.632287Z",
          "shell.execute_reply": "2024-04-27T10:16:10.643576Z"
        },
        "trusted": true,
        "colab": {
          "base_uri": "https://localhost:8080/"
        },
        "id": "Glhd_QeHzGF6",
        "outputId": "39a77437-da4c-43b9-ae46-64efc3106b18"
      },
      "execution_count": null,
      "outputs": [
        {
          "output_type": "execute_result",
          "data": {
            "text/plain": [
              "array(['dry', 'normal', 'oily'], dtype=object)"
            ]
          },
          "metadata": {},
          "execution_count": 6
        }
      ]
    },
    {
      "cell_type": "code",
      "source": [
        "df['label'].value_counts().head(50)"
      ],
      "metadata": {
        "execution": {
          "iopub.status.busy": "2024-04-27T10:16:10.645591Z",
          "iopub.execute_input": "2024-04-27T10:16:10.645872Z",
          "iopub.status.idle": "2024-04-27T10:16:10.662894Z",
          "shell.execute_reply.started": "2024-04-27T10:16:10.645849Z",
          "shell.execute_reply": "2024-04-27T10:16:10.662047Z"
        },
        "trusted": true,
        "colab": {
          "base_uri": "https://localhost:8080/"
        },
        "id": "JSgsLL0AzGF6",
        "outputId": "1200cd73-b11f-4483-de01-398fc7a26814"
      },
      "execution_count": null,
      "outputs": [
        {
          "output_type": "execute_result",
          "data": {
            "text/plain": [
              "label\n",
              "normal    1274\n",
              "oily      1120\n",
              "dry        758\n",
              "Name: count, dtype: int64"
            ]
          },
          "metadata": {},
          "execution_count": 7
        }
      ]
    },
    {
      "cell_type": "code",
      "source": [
        "# # random undersampling of a majority class\n",
        "# rus = RandomUnderSampler(random_state=83, sampling_strategy='majority')\n",
        "# y = df[['label']]\n",
        "# df = df.drop(['label'], axis=1)\n",
        "# df, y_resampled = rus.fit_resample(df, y)\n",
        "# del y\n",
        "# df['label'] = y_resampled\n",
        "# del y_resampled\n",
        "# random oversampling of all minority classes\n",
        "y = df[['label']]\n",
        "df = df.drop(['label'], axis=1)\n",
        "ros = RandomOverSampler(random_state=83)\n",
        "df, y_resampled = ros.fit_resample(df, y)\n",
        "del y\n",
        "df['label'] = y_resampled\n",
        "del y_resampled\n",
        "gc.collect()\n",
        "\n",
        "print(df.shape)"
      ],
      "metadata": {
        "execution": {
          "iopub.status.busy": "2024-04-27T10:16:10.664142Z",
          "iopub.execute_input": "2024-04-27T10:16:10.664515Z",
          "iopub.status.idle": "2024-04-27T10:16:10.977509Z",
          "shell.execute_reply.started": "2024-04-27T10:16:10.664483Z",
          "shell.execute_reply": "2024-04-27T10:16:10.976587Z"
        },
        "trusted": true,
        "colab": {
          "base_uri": "https://localhost:8080/"
        },
        "id": "20yPlMPlzGF6",
        "outputId": "4a4f915a-c64b-472f-9a94-aa1867f1b132"
      },
      "execution_count": null,
      "outputs": [
        {
          "output_type": "stream",
          "name": "stdout",
          "text": [
            "(3822, 2)\n"
          ]
        }
      ]
    },
    {
      "cell_type": "code",
      "source": [
        "df['label'].value_counts().head(50)"
      ],
      "metadata": {
        "execution": {
          "iopub.status.busy": "2024-04-27T10:16:10.978792Z",
          "iopub.execute_input": "2024-04-27T10:16:10.979155Z",
          "iopub.status.idle": "2024-04-27T10:16:10.988067Z",
          "shell.execute_reply.started": "2024-04-27T10:16:10.979122Z",
          "shell.execute_reply": "2024-04-27T10:16:10.987129Z"
        },
        "trusted": true,
        "colab": {
          "base_uri": "https://localhost:8080/"
        },
        "id": "ytjS-jw-zGF6",
        "outputId": "57f383f1-6299-4ca7-a6fe-67c17288ed25"
      },
      "execution_count": null,
      "outputs": [
        {
          "output_type": "execute_result",
          "data": {
            "text/plain": [
              "label\n",
              "dry       1274\n",
              "normal    1274\n",
              "oily      1274\n",
              "Name: count, dtype: int64"
            ]
          },
          "metadata": {},
          "execution_count": 9
        }
      ]
    },
    {
      "cell_type": "code",
      "source": [
        "# Create a dataset from a Pandas DataFrame.\n",
        "dataset = Dataset.from_pandas(df).cast_column(\"image\", Image())"
      ],
      "metadata": {
        "execution": {
          "iopub.status.busy": "2024-04-27T10:16:10.989415Z",
          "iopub.execute_input": "2024-04-27T10:16:10.990215Z",
          "iopub.status.idle": "2024-04-27T10:16:11.012982Z",
          "shell.execute_reply.started": "2024-04-27T10:16:10.990179Z",
          "shell.execute_reply": "2024-04-27T10:16:11.012309Z"
        },
        "trusted": true,
        "id": "TCWjHYU7zGF6"
      },
      "execution_count": null,
      "outputs": []
    },
    {
      "cell_type": "code",
      "source": [
        "# Display the first image in the dataset\n",
        "dataset[0][\"image\"]"
      ],
      "metadata": {
        "execution": {
          "iopub.status.busy": "2024-04-27T10:16:11.017023Z",
          "iopub.execute_input": "2024-04-27T10:16:11.017386Z",
          "iopub.status.idle": "2024-04-27T10:16:11.090557Z",
          "shell.execute_reply.started": "2024-04-27T10:16:11.017363Z",
          "shell.execute_reply": "2024-04-27T10:16:11.089665Z"
        },
        "trusted": true,
        "colab": {
          "base_uri": "https://localhost:8080/",
          "height": 657
        },
        "id": "oQWkkQyWzGF6",
        "outputId": "c896159d-116f-4868-e8e0-8e012688dbb5"
      },
      "execution_count": null,
      "outputs": [
        {
          "output_type": "execute_result",
          "data": {
            "text/plain": [
              "<PIL.JpegImagePlugin.JpegImageFile image mode=RGB size=640x640>"
            ],
            "image/png": "[encoded data removed]"
          },
          "metadata": {},
          "execution_count": 11
        }
      ]
    },
    {
      "cell_type": "code",
      "source": [
        "# Extracting a subset of elements from the 'labels' list using slicing.\n",
        "# The slicing syntax [:5] selects elements from the beginning up to (but not including) the 5th element.\n",
        "# This will give us the first 5 elements of the 'labels' list.\n",
        "# The result will be a new list containing these elements.\n",
        "labels_subset = list(df['label'])[:5]\n",
        "\n",
        "# Printing the subset of labels to inspect the content.\n",
        "print(labels_subset)"
      ],
      "metadata": {
        "execution": {
          "iopub.status.busy": "2024-04-27T10:16:11.091620Z",
          "iopub.execute_input": "2024-04-27T10:16:11.091878Z",
          "iopub.status.idle": "2024-04-27T10:16:11.097163Z",
          "shell.execute_reply.started": "2024-04-27T10:16:11.091855Z",
          "shell.execute_reply": "2024-04-27T10:16:11.096321Z"
        },
        "trusted": true,
        "colab": {
          "base_uri": "https://localhost:8080/"
        },
        "id": "gXGIwk4fzGF6",
        "outputId": "5f71851e-71d0-48e4-df26-793885c6629d"
      },
      "execution_count": null,
      "outputs": [
        {
          "output_type": "stream",
          "name": "stdout",
          "text": [
            "['dry', 'dry', 'dry', 'dry', 'dry']\n"
          ]
        }
      ]
    },
    {
      "cell_type": "code",
      "source": [
        "# Create a list of unique labels by converting 'labels' to a set and then back to a list\n",
        "labels_list = sorted(list(set(df['label'])))\n",
        "\n",
        "# Initialize empty dictionaries to map labels to IDs and vice versa\n",
        "label2id, id2label = dict(), dict()\n",
        "\n",
        "# Iterate over the unique labels and assign each label an ID, and vice versa\n",
        "for i, label in enumerate(labels_list):\n",
        "    label2id[label] = i  # Map the label to its corresponding ID\n",
        "    id2label[i] = label  # Map the ID to its corresponding label\n",
        "\n",
        "# Print the resulting dictionaries for reference\n",
        "print(\"Mapping of IDs to Labels:\", id2label, '\\n')\n",
        "print(\"Mapping of Labels to IDs:\", label2id)"
      ],
      "metadata": {
        "execution": {
          "iopub.status.busy": "2024-04-27T10:16:11.098220Z",
          "iopub.execute_input": "2024-04-27T10:16:11.098472Z",
          "iopub.status.idle": "2024-04-27T10:16:11.112939Z",
          "shell.execute_reply.started": "2024-04-27T10:16:11.098450Z",
          "shell.execute_reply": "2024-04-27T10:16:11.112130Z"
        },
        "trusted": true,
        "colab": {
          "base_uri": "https://localhost:8080/"
        },
        "id": "E2S-ggR3zGF6",
        "outputId": "0399b73c-ab8f-4989-b22e-6a3ce6629443"
      },
      "execution_count": null,
      "outputs": [
        {
          "output_type": "stream",
          "name": "stdout",
          "text": [
            "Mapping of IDs to Labels: {0: 'dry', 1: 'normal', 2: 'oily'} \n",
            "\n",
            "Mapping of Labels to IDs: {'dry': 0, 'normal': 1, 'oily': 2}\n"
          ]
        }
      ]
    },
    {
      "cell_type": "code",
      "source": [
        "# Creating classlabels to match labels to IDs\n",
        "ClassLabels = ClassLabel(num_classes=len(labels_list), names=labels_list)\n",
        "\n",
        "# Mapping labels to IDs\n",
        "def map_label2id(example):\n",
        "    example['label'] = ClassLabels.str2int(example['label'])\n",
        "    return example\n",
        "\n",
        "dataset = dataset.map(map_label2id, batched=True)\n",
        "\n",
        "# Casting label column to ClassLabel Object\n",
        "dataset = dataset.cast_column('label', ClassLabels)\n",
        "\n",
        "# Splitting the dataset into training and testing sets using an 60-40 split ratio.\n",
        "dataset = dataset.train_test_split(test_size=0.4, shuffle=True, stratify_by_column=\"label\")\n",
        "\n",
        "# Extracting the training data from the split dataset.\n",
        "train_data = dataset['train']\n",
        "\n",
        "# Extracting the testing data from the split dataset.\n",
        "test_data = dataset['test']"
      ],
      "metadata": {
        "execution": {
          "iopub.status.busy": "2024-04-27T10:16:11.113948Z",
          "iopub.execute_input": "2024-04-27T10:16:11.114227Z",
          "iopub.status.idle": "2024-04-27T10:16:11.193851Z",
          "shell.execute_reply.started": "2024-04-27T10:16:11.114205Z",
          "shell.execute_reply": "2024-04-27T10:16:11.193192Z"
        },
        "trusted": true,
        "colab": {
          "base_uri": "https://localhost:8080/",
          "height": 81,
          "referenced_widgets": [
            "d48eba97d8aa4d5585ad85f3caa5c0d9",
            "96810ee8eeff49bb950403eadbd1e4cb",
            "8a5e40a3ec844b339058d305908c432b",
            "d270175eef044f3fb7dee5a0e4b6a6a5",
            "d534f2bfc0404dc4a8f4c4b28f186957",
            "5a0cb4b2168b40c7a159c4da840da8aa",
            "d4c31c99f00048c6a0eb0954a3613e04",
            "340f930e02d54b7e87d1a3e7bca4d284",
            "af977296b0c34953b6920e94d2148a47",
            "2ea9ddde5a8b4ab087a1c5d83220403a",
            "706d3e99ca2840d59955a7e5af512b04",
            "404981dd5c2a40f39299846093b9b5cd",
            "5f2af84c0b124f8ebbd40e424abcb596",
            "bb4fca3b6ef9488bb9af6391657ba54a",
            "d51f7a590e4d4d678a8e131ab6c671f2",
            "bbf4f1c426c343cbb44111e458588f02",
            "c0aa933f5d6346bca4767b3740965a93",
            "5652f77eb684470cb3e330c131afa1a4",
            "836e8aa3d9b543048b610515f63c365b",
            "648f31581e8a4101aae97c2e2b9ba2cc",
            "c0747bc372a34d2abaf7c30452e35928",
            "33810058c2444fb892288460b9bb0ecc"
          ]
        },
        "id": "BIMktR8TzGF6",
        "outputId": "cafd72d5-5c1d-46b6-ec54-1133a59192a5"
      },
      "execution_count": null,
      "outputs": [
        {
          "output_type": "display_data",
          "data": {
            "text/plain": [
              "Map:   0%|          | 0/3822 [00:00<?, ? examples/s]"
            ],
            "application/vnd.jupyter.widget-view+json": {
              "version_major": 2,
              "version_minor": 0,
              "model_id": "d48eba97d8aa4d5585ad85f3caa5c0d9"
            }
          },
          "metadata": {}
        },
        {
          "output_type": "display_data",
          "data": {
            "text/plain": [
              "Casting the dataset:   0%|          | 0/3822 [00:00<?, ? examples/s]"
            ],
            "application/vnd.jupyter.widget-view+json": {
              "version_major": 2,
              "version_minor": 0,
              "model_id": "404981dd5c2a40f39299846093b9b5cd"
            }
          },
          "metadata": {}
        }
      ]
    },
    {
      "cell_type": "code",
      "source": [
        "# Define the pre-trained ViT model string\n",
        "model_str = \"dima806/skin_types_image_detection\" # 'google/vit-base-patch16-224-in21k'\n",
        "\n",
        "# Create a processor for ViT model input from the pre-trained model\n",
        "processor = ViTImageProcessor.from_pretrained(model_str)\n",
        "\n",
        "# Retrieve the image mean and standard deviation used for normalization\n",
        "image_mean, image_std = processor.image_mean, processor.image_std\n",
        "\n",
        "# Get the size (height) of the ViT model's input images\n",
        "size = processor.size[\"height\"]\n",
        "print(\"Size: \", size)\n",
        "\n",
        "# Define a normalization transformation for the input images\n",
        "normalize = Normalize(mean=image_mean, std=image_std)\n",
        "\n",
        "# Define a set of transformations for training data\n",
        "_train_transforms = Compose(\n",
        "    [\n",
        "        Resize((size, size)),             # Resize images to the ViT model's input size\n",
        "        RandomRotation(90),               # Apply random rotation\n",
        "        RandomAdjustSharpness(2),         # Adjust sharpness randomly\n",
        "        RandomHorizontalFlip(0.5),        # Random horizontal flip\n",
        "        ToTensor(),                       # Convert images to tensors\n",
        "        normalize                         # Normalize images using mean and std\n",
        "    ]\n",
        ")\n",
        "\n",
        "# Define a set of transformations for validation data\n",
        "_val_transforms = Compose(\n",
        "    [\n",
        "        Resize((size, size)),             # Resize images to the ViT model's input size\n",
        "        ToTensor(),                       # Convert images to tensors\n",
        "        normalize                         # Normalize images using mean and std\n",
        "    ]\n",
        ")\n",
        "\n",
        "# Define a function to apply training transformations to a batch of examples\n",
        "def train_transforms(examples):\n",
        "    examples['pixel_values'] = [_train_transforms(image.convert(\"RGB\")) for image in examples['image']]\n",
        "    return examples\n",
        "\n",
        "# Define a function to apply validation transformations to a batch of examples\n",
        "def val_transforms(examples):\n",
        "    examples['pixel_values'] = [_val_transforms(image.convert(\"RGB\")) for image in examples['image']]\n",
        "    return examples"
      ],
      "metadata": {
        "execution": {
          "iopub.status.busy": "2024-04-27T10:16:11.194847Z",
          "iopub.execute_input": "2024-04-27T10:16:11.195142Z",
          "iopub.status.idle": "2024-04-27T10:16:11.454136Z",
          "shell.execute_reply.started": "2024-04-27T10:16:11.195118Z",
          "shell.execute_reply": "2024-04-27T10:16:11.453212Z"
        },
        "trusted": true,
        "colab": {
          "base_uri": "https://localhost:8080/",
          "height": 66,
          "referenced_widgets": [
            "18e393c3bf8f4760b31a6581b252fdcf",
            "086fb5b785384c329724f871e3d2431e",
            "9d43799724c549f9825bea42f4f3f502",
            "4c2073582269465b97caba23f525d1d4",
            "e2d4c67097a644a9bcaf7a1271272c1c",
            "7b0794563e5e4909b00efa9b696cd53a",
            "0a1a730dccd44010be1cb54ffbc7ee40",
            "f1896c7ed98c4ff29d6fbf51bd785f07",
            "632dac146e424fa99a751b4a5196a53a",
            "52fb7f7bbe4c4839a513ca78be87532e",
            "c8be6f0fa374431cbf0e6a9f5d729e30"
          ]
        },
        "id": "zZ7ZfBZ5zGF7",
        "outputId": "7a6d57b2-4a03-4127-f5ce-27e0205ad0c3"
      },
      "execution_count": null,
      "outputs": [
        {
          "output_type": "display_data",
          "data": {
            "text/plain": [
              "preprocessor_config.json:   0%|          | 0.00/578 [00:00<?, ?B/s]"
            ],
            "application/vnd.jupyter.widget-view+json": {
              "version_major": 2,
              "version_minor": 0,
              "model_id": "18e393c3bf8f4760b31a6581b252fdcf"
            }
          },
          "metadata": {}
        },
        {
          "output_type": "stream",
          "name": "stdout",
          "text": [
            "Size:  224\n"
          ]
        }
      ]
    },
    {
      "cell_type": "code",
      "source": [
        "# Set the transforms for the training data\n",
        "train_data.set_transform(train_transforms)\n",
        "\n",
        "# Set the transforms for the test/validation data\n",
        "test_data.set_transform(val_transforms)"
      ],
      "metadata": {
        "execution": {
          "iopub.status.busy": "2024-04-27T10:16:11.455266Z",
          "iopub.execute_input": "2024-04-27T10:16:11.455532Z",
          "iopub.status.idle": "2024-04-27T10:16:11.468233Z",
          "shell.execute_reply.started": "2024-04-27T10:16:11.455508Z",
          "shell.execute_reply": "2024-04-27T10:16:11.467352Z"
        },
        "trusted": true,
        "id": "0qgEPthwzGF7"
      },
      "execution_count": null,
      "outputs": []
    },
    {
      "cell_type": "markdown",
      "source": [
        "# Load, train, and evaluate model"
      ],
      "metadata": {
        "id": "ns1wIVaXzGF7"
      }
    },
    {
      "cell_type": "code",
      "source": [
        "# Define a collate function that prepares batched data for model training.\n",
        "def collate_fn(examples):\n",
        "    # Stack the pixel values from individual examples into a single tensor.\n",
        "    pixel_values = torch.stack([example[\"pixel_values\"] for example in examples])\n",
        "\n",
        "    # Convert the label strings in examples to corresponding numeric IDs using label2id dictionary.\n",
        "    labels = torch.tensor([example['label'] for example in examples])\n",
        "\n",
        "    # Return a dictionary containing the batched pixel values and labels.\n",
        "    return {\"pixel_values\": pixel_values, \"labels\": labels}"
      ],
      "metadata": {
        "execution": {
          "iopub.status.busy": "2024-04-27T10:16:11.469324Z",
          "iopub.execute_input": "2024-04-27T10:16:11.469591Z",
          "iopub.status.idle": "2024-04-27T10:16:11.484108Z",
          "shell.execute_reply.started": "2024-04-27T10:16:11.469568Z",
          "shell.execute_reply": "2024-04-27T10:16:11.483393Z"
        },
        "trusted": true,
        "id": "zlF5m7V7zGF7"
      },
      "execution_count": null,
      "outputs": []
    },
    {
      "cell_type": "code",
      "source": [
        "# Create a ViTForImageClassification model from a pretrained checkpoint with a specified number of output labels.\n",
        "model = ViTForImageClassification.from_pretrained(model_str, num_labels=len(labels_list))\n",
        "\n",
        "# Configure the mapping of class labels to their corresponding indices for later reference.\n",
        "model.config.id2label = id2label\n",
        "model.config.label2id = label2id\n",
        "\n",
        "# Calculate and print the number of trainable parameters in millions for the model.\n",
        "print(model.num_parameters(only_trainable=True) / 1e6)"
      ],
      "metadata": {
        "execution": {
          "iopub.status.busy": "2024-04-27T10:16:11.485030Z",
          "iopub.execute_input": "2024-04-27T10:16:11.485306Z",
          "iopub.status.idle": "2024-04-27T10:16:16.871248Z",
          "shell.execute_reply.started": "2024-04-27T10:16:11.485284Z",
          "shell.execute_reply": "2024-04-27T10:16:16.870333Z"
        },
        "trusted": true,
        "colab": {
          "base_uri": "https://localhost:8080/",
          "height": 98,
          "referenced_widgets": [
            "1be520b7b97645789cd5f7195b45eb6b",
            "b1a32c45aee6462797f86bc0fa1a1757",
            "c928317aa5474bff87fa775c187175f9",
            "299616531f5142f3b8f0328c3bb1b8e7",
            "bd979bde1cf14cf88b7c7cd6c77ca764",
            "233ec9e78d7f4374bda5e3f0a88b0644",
            "e3c932b7c04146c5ab0aae1d1a09c6f3",
            "7d65765ae79d4b528c774d7e92ea7702",
            "8bbbd53402754c3f87d12a133ae3f5ce",
            "b22723b4fb2b4c3b9ae49ffe9be482c5",
            "bde79c3da0974b979d42ecf3b0ba150c",
            "8a9823180aeb4b3ab000b40ce23a77c2",
            "075e7e85d66c4f32a1d5bef6008c0c67",
            "fab5cfa690f140faabfc82167384257c",
            "f8647528b8d44b728eadafa72c25dac4",
            "52e85ddc6e044801b1aa80d90a88968f",
            "99d4dce597e941dda1419d5686192042",
            "5572a012ad254a1881040f00e107dccf",
            "2fa903ce6b0a471892c361ab2e916e62",
            "9f688b0decd440819eb268adabee6705",
            "a0904c058ef94996ab8e80044a962e03",
            "57b9d2c092ca46828885529b29807f56"
          ]
        },
        "id": "WPBIij8uzGF7",
        "outputId": "2228d68e-bb6e-4709-9633-e4a9680dc277"
      },
      "execution_count": null,
      "outputs": [
        {
          "output_type": "display_data",
          "data": {
            "text/plain": [
              "config.json:   0%|          | 0.00/754 [00:00<?, ?B/s]"
            ],
            "application/vnd.jupyter.widget-view+json": {
              "version_major": 2,
              "version_minor": 0,
              "model_id": "1be520b7b97645789cd5f7195b45eb6b"
            }
          },
          "metadata": {}
        },
        {
          "output_type": "display_data",
          "data": {
            "text/plain": [
              "model.safetensors:   0%|          | 0.00/343M [00:00<?, ?B/s]"
            ],
            "application/vnd.jupyter.widget-view+json": {
              "version_major": 2,
              "version_minor": 0,
              "model_id": "8a9823180aeb4b3ab000b40ce23a77c2"
            }
          },
          "metadata": {}
        },
        {
          "output_type": "stream",
          "name": "stdout",
          "text": [
            "85.800963\n"
          ]
        }
      ]
    },
    {
      "cell_type": "code",
      "source": [
        "# Load the accuracy metric from a module named 'evaluate'\n",
        "accuracy = evaluate.load(\"accuracy\")\n",
        "\n",
        "# Define a function 'compute_metrics' to calculate evaluation metrics\n",
        "def compute_metrics(eval_pred):\n",
        "    # Extract model predictions from the evaluation prediction object\n",
        "    predictions = eval_pred.predictions\n",
        "\n",
        "    # Extract true labels from the evaluation prediction object\n",
        "    label_ids = eval_pred.label_ids\n",
        "\n",
        "    # Calculate accuracy using the loaded accuracy metric\n",
        "    # Convert model predictions to class labels by selecting the class with the highest probability (argmax)\n",
        "    predicted_labels = predictions.argmax(axis=1)\n",
        "\n",
        "    # Calculate accuracy score by comparing predicted labels to true labels\n",
        "    acc_score = accuracy.compute(predictions=predicted_labels, references=label_ids)['accuracy']\n",
        "\n",
        "    # Return the computed accuracy as a dictionary with the key \"accuracy\"\n",
        "    return {\n",
        "        \"accuracy\": acc_score\n",
        "    }"
      ],
      "metadata": {
        "execution": {
          "iopub.status.busy": "2024-04-27T10:16:16.872521Z",
          "iopub.execute_input": "2024-04-27T10:16:16.872884Z",
          "iopub.status.idle": "2024-04-27T10:16:17.557790Z",
          "shell.execute_reply.started": "2024-04-27T10:16:16.872851Z",
          "shell.execute_reply": "2024-04-27T10:16:17.557110Z"
        },
        "trusted": true,
        "colab": {
          "base_uri": "https://localhost:8080/",
          "height": 49,
          "referenced_widgets": [
            "c8ed88872f6f467fab11c609ea35c75f",
            "690c862c036a4e68aa42d7024d8c2f30",
            "c0523cdbe430406381179c6d3618ef70",
            "5bcc0c9eb75446a3b8b220ccd21489cb",
            "fd976963bb254a5188be2fa77b219fb0",
            "803cf4f293f14b2ebf55d15fb6984180",
            "8251201378fe40afa6c2beac55a0e823",
            "d7dce0d0361740c9b25f124be52a53e6",
            "a72c83f22c2c467f8d9c218bd981490c",
            "0e190f18051f477c9914f4105b9ec19b",
            "26701018606043a7aa41606cc3a70b0b"
          ]
        },
        "id": "Oe-3Vi6FzGF7",
        "outputId": "78ac461d-7e78-4d9b-a0d0-627ad2982a29"
      },
      "execution_count": null,
      "outputs": [
        {
          "output_type": "display_data",
          "data": {
            "text/plain": [
              "Downloading builder script:   0%|          | 0.00/4.20k [00:00<?, ?B/s]"
            ],
            "application/vnd.jupyter.widget-view+json": {
              "version_major": 2,
              "version_minor": 0,
              "model_id": "c8ed88872f6f467fab11c609ea35c75f"
            }
          },
          "metadata": {}
        }
      ]
    },
    {
      "cell_type": "code",
      "source": [
        "# Define the name of the evaluation metric to be used during training and evaluation.\n",
        "metric_name = \"accuracy\"\n",
        "\n",
        "# Define the name of the model, which will be used to create a directory for saving model checkpoints and outputs.\n",
        "model_name = \"skin_types_image_detection\"\n",
        "\n",
        "# Define the number of training epochs for the model.\n",
        "num_train_epochs = 10\n",
        "\n",
        "# Create an instance of TrainingArguments to configure training settings.\n",
        "args = TrainingArguments(\n",
        "    # Specify the directory where model checkpoints and outputs will be saved.\n",
        "    output_dir=model_name,\n",
        "\n",
        "    # Specify the directory where training logs will be stored.\n",
        "    logging_dir='./logs',\n",
        "\n",
        "    # Define the evaluation strategy, which is performed at the end of each epoch.\n",
        "    evaluation_strategy=\"epoch\",\n",
        "\n",
        "    # Set the learning rate for the optimizer.\n",
        "    learning_rate=5e-7,\n",
        "\n",
        "    # Define the batch size for training on each device.\n",
        "    per_device_train_batch_size=64,\n",
        "\n",
        "    # Define the batch size for evaluation on each device.\n",
        "    per_device_eval_batch_size=32,\n",
        "\n",
        "    # Specify the total number of training epochs.\n",
        "    num_train_epochs=num_train_epochs,\n",
        "\n",
        "    # Apply weight decay to prevent overfitting.\n",
        "    weight_decay=0.02,\n",
        "\n",
        "    # Set the number of warm-up steps for the learning rate scheduler.\n",
        "    warmup_steps=50,\n",
        "\n",
        "    # Disable the removal of unused columns from the dataset.\n",
        "    remove_unused_columns=False,\n",
        "\n",
        "    # Define the strategy for saving model checkpoints (per epoch in this case).\n",
        "    save_strategy='epoch',\n",
        "\n",
        "    # Load the best model at the end of training.\n",
        "    load_best_model_at_end=True,\n",
        "\n",
        "    # Limit the total number of saved checkpoints to save space.\n",
        "    save_total_limit=1,\n",
        "\n",
        "    # Specify that training progress should not be reported.\n",
        "    report_to=\"none\"\n",
        ")"
      ],
      "metadata": {
        "execution": {
          "iopub.status.busy": "2024-04-27T10:16:17.558790Z",
          "iopub.execute_input": "2024-04-27T10:16:17.559064Z",
          "iopub.status.idle": "2024-04-27T10:16:17.630957Z",
          "shell.execute_reply.started": "2024-04-27T10:16:17.559041Z",
          "shell.execute_reply": "2024-04-27T10:16:17.630139Z"
        },
        "trusted": true,
        "id": "jSUvDiSlzGF7"
      },
      "execution_count": null,
      "outputs": []
    },
    {
      "cell_type": "code",
      "source": [
        "# Create a Trainer instance for fine-tuning a language model.\n",
        "\n",
        "# - `model`: The pre-trained language model to be fine-tuned.\n",
        "# - `args`: Configuration settings and hyperparameters for training.\n",
        "# - `train_dataset`: The dataset used for training the model.\n",
        "# - `eval_dataset`: The dataset used for evaluating the model during training.\n",
        "# - `data_collator`: A function that defines how data batches are collated and processed.\n",
        "# - `compute_metrics`: A function for computing custom evaluation metrics.\n",
        "# - `tokenizer`: The tokenizer used for processing text data.\n",
        "\n",
        "trainer = Trainer(\n",
        "    model,\n",
        "    args,\n",
        "    train_dataset=train_data,\n",
        "    eval_dataset=test_data,\n",
        "    data_collator=collate_fn,\n",
        "    compute_metrics=compute_metrics,\n",
        "    tokenizer=processor,\n",
        ")"
      ],
      "metadata": {
        "execution": {
          "iopub.status.busy": "2024-04-27T10:16:17.632213Z",
          "iopub.execute_input": "2024-04-27T10:16:17.632636Z",
          "iopub.status.idle": "2024-04-27T10:16:17.873515Z",
          "shell.execute_reply.started": "2024-04-27T10:16:17.632604Z",
          "shell.execute_reply": "2024-04-27T10:16:17.872466Z"
        },
        "trusted": true,
        "id": "1eXG4L7tzGF7"
      },
      "execution_count": null,
      "outputs": []
    },
    {
      "cell_type": "code",
      "source": [
        "# Evaluate the pre-training model's performance on a test dataset.\n",
        "# This function calculates various metrics such as accuracy, loss, etc.,\n",
        "# to assess how well the model is performing on unseen data.\n",
        "\n",
        "trainer.evaluate()"
      ],
      "metadata": {
        "execution": {
          "iopub.status.busy": "2024-04-27T10:16:17.874707Z",
          "iopub.execute_input": "2024-04-27T10:16:17.875008Z",
          "iopub.status.idle": "2024-04-27T10:16:42.590782Z",
          "shell.execute_reply.started": "2024-04-27T10:16:17.874984Z",
          "shell.execute_reply": "2024-04-27T10:16:42.589899Z"
        },
        "trusted": true,
        "colab": {
          "base_uri": "https://localhost:8080/",
          "height": 124
        },
        "id": "FXk1u4sTzGF7",
        "outputId": "8bff97a1-1069-4091-8e34-9ac352e51120"
      },
      "execution_count": null,
      "outputs": [
        {
          "output_type": "display_data",
          "data": {
            "text/plain": [
              "<IPython.core.display.HTML object>"
            ],
            "text/html": [
              "\n",
              "    <div>\n",
              "      \n",
              "      <progress value='48' max='48' style='width:300px; height:20px; vertical-align: middle;'></progress>\n",
              "      [48/48 09:59]\n",
              "    </div>\n",
              "    "
            ]
          },
          "metadata": {}
        },
        {
          "output_type": "execute_result",
          "data": {
            "text/plain": [
              "{'eval_loss': 0.9299039244651794,\n",
              " 'eval_accuracy': 0.6415958142576847,\n",
              " 'eval_runtime': 640.4025,\n",
              " 'eval_samples_per_second': 2.388,\n",
              " 'eval_steps_per_second': 0.075}"
            ]
          },
          "metadata": {},
          "execution_count": 22
        }
      ]
    },
    {
      "cell_type": "code",
      "source": [
        "# Start training the model using the trainer object.\n",
        "trainer.train()"
      ],
      "metadata": {
        "execution": {
          "iopub.status.busy": "2024-04-27T10:16:42.591861Z",
          "iopub.execute_input": "2024-04-27T10:16:42.592168Z",
          "iopub.status.idle": "2024-04-27T10:23:24.705756Z",
          "shell.execute_reply.started": "2024-04-27T10:16:42.592142Z",
          "shell.execute_reply": "2024-04-27T10:23:24.704836Z"
        },
        "trusted": true,
        "colab": {
          "base_uri": "https://localhost:8080/",
          "height": 426
        },
        "id": "cJz_dEXXzGF7",
        "outputId": "88c5956c-31f4-48c6-b7a4-45606711053f"
      },
      "execution_count": null,
      "outputs": [
        {
          "output_type": "display_data",
          "data": {
            "text/plain": [
              "<IPython.core.display.HTML object>"
            ],
            "text/html": [
              "\n",
              "    <div>\n",
              "      \n",
              "      <progress value='360' max='360' style='width:300px; height:20px; vertical-align: middle;'></progress>\n",
              "      [360/360 36:34, Epoch 10/10]\n",
              "    </div>\n",
              "    <table border=\"1\" class=\"dataframe\">\n",
              "  <thead>\n",
              " <tr style=\"text-align: left;\">\n",
              "      <th>Epoch</th>\n",
              "      <th>Training Loss</th>\n",
              "      <th>Validation Loss</th>\n",
              "      <th>Accuracy</th>\n",
              "    </tr>\n",
              "  </thead>\n",
              "  <tbody>\n",
              "    <tr>\n",
              "      <td>1</td>\n",
              "      <td>No log</td>\n",
              "      <td>0.929417</td>\n",
              "      <td>0.642250</td>\n",
              "    </tr>\n",
              "    <tr>\n",
              "      <td>2</td>\n",
              "      <td>No log</td>\n",
              "      <td>0.927944</td>\n",
              "      <td>0.641596</td>\n",
              "    </tr>\n",
              "    <tr>\n",
              "      <td>3</td>\n",
              "      <td>No log</td>\n",
              "      <td>0.926784</td>\n",
              "      <td>0.642904</td>\n",
              "    </tr>\n",
              "    <tr>\n",
              "      <td>4</td>\n",
              "      <td>No log</td>\n",
              "      <td>0.925613</td>\n",
              "      <td>0.647482</td>\n",
              "    </tr>\n",
              "    <tr>\n",
              "      <td>5</td>\n",
              "      <td>No log</td>\n",
              "      <td>0.924656</td>\n",
              "      <td>0.648136</td>\n",
              "    </tr>\n",
              "    <tr>\n",
              "      <td>6</td>\n",
              "      <td>No log</td>\n",
              "      <td>0.923896</td>\n",
              "      <td>0.646174</td>\n",
              "    </tr>\n",
              "    <tr>\n",
              "      <td>7</td>\n",
              "      <td>No log</td>\n",
              "      <td>0.923167</td>\n",
              "      <td>0.647482</td>\n",
              "    </tr>\n",
              "    <tr>\n",
              "      <td>8</td>\n",
              "      <td>No log</td>\n",
              "      <td>0.922796</td>\n",
              "      <td>0.646828</td>\n",
              "    </tr>\n",
              "    <tr>\n",
              "      <td>9</td>\n",
              "      <td>No log</td>\n",
              "      <td>0.922499</td>\n",
              "      <td>0.644866</td>\n",
              "    </tr>\n",
              "    <tr>\n",
              "      <td>10</td>\n",
              "      <td>No log</td>\n",
              "      <td>0.922395</td>\n",
              "      <td>0.644866</td>\n",
              "    </tr>\n",
              "  </tbody>\n",
              "</table><p>"
            ]
          },
          "metadata": {}
        },
        {
          "output_type": "display_data",
          "data": {
            "text/plain": [
              "<IPython.core.display.HTML object>"
            ],
            "text/html": [
              "\n",
              "    <div>\n",
              "      \n",
              "      <progress value='96' max='48' style='width:300px; height:20px; vertical-align: middle;'></progress>\n",
              "      [48/48 25:21]\n",
              "    </div>\n",
              "    "
            ]
          },
          "metadata": {}
        },
        {
          "output_type": "execute_result",
          "data": {
            "text/plain": [
              "TrainOutput(global_step=360, training_loss=0.8665456136067708, metrics={'train_runtime': 2244.3863, 'train_samples_per_second': 10.217, 'train_steps_per_second': 0.16, 'total_flos': 1.776907247577477e+18, 'train_loss': 0.8665456136067708, 'epoch': 10.0})"
            ]
          },
          "metadata": {},
          "execution_count": 23
        }
      ]
    },
    {
      "cell_type": "code",
      "source": [
        "torch.save(trainer.model.state_dict(), 'model_weights.pth')"
      ],
      "metadata": {
        "id": "-1lF24suoSdY"
      },
      "execution_count": null,
      "outputs": []
    },
    {
      "cell_type": "code",
      "source": [
        "from google.colab import files\n",
        "files.download('model_weights.pth')"
      ],
      "metadata": {
        "id": "jmhu_mDfdW2C",
        "outputId": "3d94ba6d-99cb-4be5-dad6-83e0bd411e59",
        "colab": {
          "base_uri": "https://localhost:8080/",
          "height": 34
        }
      },
      "execution_count": null,
      "outputs": [
        {
          "output_type": "display_data",
          "data": {
            "text/plain": [
              "<IPython.core.display.Javascript object>"
            ],
            "application/javascript": [
              "\n",
              "    async function download(id, filename, size) {\n",
              "      if (!google.colab.kernel.accessAllowed) {\n",
              "        return;\n",
              "      }\n",
              "      const div = document.createElement('div');\n",
              "      const label = document.createElement('label');\n",
              "      label.textContent = `Downloading \"${filename}\": `;\n",
              "      div.appendChild(label);\n",
              "      const progress = document.createElement('progress');\n",
              "      progress.max = size;\n",
              "      div.appendChild(progress);\n",
              "      document.body.appendChild(div);\n",
              "\n",
              "      const buffers = [];\n",
              "      let downloaded = 0;\n",
              "\n",
              "      const channel = await google.colab.kernel.comms.open(id);\n",
              "      // Send a message to notify the kernel that we're ready.\n",
              "      channel.send({})\n",
              "\n",
              "      for await (const message of channel.messages) {\n",
              "        // Send a message to notify the kernel that we're ready.\n",
              "        channel.send({})\n",
              "        if (message.buffers) {\n",
              "          for (const buffer of message.buffers) {\n",
              "            buffers.push(buffer);\n",
              "            downloaded += buffer.byteLength;\n",
              "            progress.value = downloaded;\n",
              "          }\n",
              "        }\n",
              "      }\n",
              "      const blob = new Blob(buffers, {type: 'application/binary'});\n",
              "      const a = document.createElement('a');\n",
              "      a.href = window.URL.createObjectURL(blob);\n",
              "      a.download = filename;\n",
              "      div.appendChild(a);\n",
              "      a.click();\n",
              "      div.remove();\n",
              "    }\n",
              "  "
            ]
          },
          "metadata": {}
        },
        {
          "output_type": "display_data",
          "data": {
            "text/plain": [
              "<IPython.core.display.Javascript object>"
            ],
            "application/javascript": [
              "download(\"download_21fbb01e-ebef-442c-93d4-8d16974786df\", \"model_weights.pth\", 343285994)"
            ]
          },
          "metadata": {}
        }
      ]
    },
    {
      "cell_type": "code",
      "source": [
        "# Evaluate the post-training model's performance on the validation or test dataset.\n",
        "# This function computes various evaluation metrics like accuracy, loss, etc.\n",
        "# and provides insights into how well the model is performing.\n",
        "\n",
        "trainer.evaluate()"
      ],
      "metadata": {
        "execution": {
          "iopub.status.busy": "2024-04-27T10:23:24.707114Z",
          "iopub.execute_input": "2024-04-27T10:23:24.707482Z",
          "iopub.status.idle": "2024-04-27T10:23:44.595637Z",
          "shell.execute_reply.started": "2024-04-27T10:23:24.707452Z",
          "shell.execute_reply": "2024-04-27T10:23:44.594779Z"
        },
        "trusted": true,
        "id": "g5guAtlqzGF7"
      },
      "execution_count": null,
      "outputs": []
    },
    {
      "cell_type": "code",
      "source": [
        "# Use the trained 'trainer' to make predictions on the 'test_data'.\n",
        "outputs = trainer.predict(test_data)\n",
        "\n",
        "# Print the metrics obtained from the prediction outputs.\n",
        "print(outputs.metrics)"
      ],
      "metadata": {
        "execution": {
          "iopub.status.busy": "2024-04-27T10:23:44.597014Z",
          "iopub.execute_input": "2024-04-27T10:23:44.597575Z",
          "iopub.status.idle": "2024-04-27T10:24:04.386501Z",
          "shell.execute_reply.started": "2024-04-27T10:23:44.597540Z",
          "shell.execute_reply": "2024-04-27T10:24:04.385620Z"
        },
        "trusted": true,
        "id": "Q8t5FBR_zGF7"
      },
      "execution_count": null,
      "outputs": []
    },
    {
      "cell_type": "code",
      "source": [
        "# Extract the true labels from the model outputs\n",
        "y_true = outputs.label_ids\n",
        "\n",
        "# Predict the labels by selecting the class with the highest probability\n",
        "y_pred = outputs.predictions.argmax(1)\n",
        "\n",
        "# Define a function to plot a confusion matrix\n",
        "def plot_confusion_matrix(cm, classes, title='Confusion Matrix', cmap=plt.cm.Blues, figsize=(10, 8)):\n",
        "    \"\"\"\n",
        "    This function plots a confusion matrix.\n",
        "\n",
        "    Parameters:\n",
        "        cm (array-like): Confusion matrix as returned by sklearn.metrics.confusion_matrix.\n",
        "        classes (list): List of class names, e.g., ['Class 0', 'Class 1'].\n",
        "        title (str): Title for the plot.\n",
        "        cmap (matplotlib colormap): Colormap for the plot.\n",
        "    \"\"\"\n",
        "\n",
        "    # Create a figure with a specified size\n",
        "    plt.figure(figsize=figsize)\n",
        "\n",
        "    # Display the confusion matrix as an image with a colormap\n",
        "    plt.imshow(cm, interpolation='nearest', cmap=cmap)\n",
        "    plt.title(title)\n",
        "    plt.colorbar()\n",
        "\n",
        "    # Define tick marks and labels for the classes on the axes\n",
        "    tick_marks = np.arange(len(classes))\n",
        "    plt.xticks(tick_marks, classes, rotation=90)\n",
        "    plt.yticks(tick_marks, classes)\n",
        "\n",
        "    fmt = '.0f'\n",
        "    # Add text annotations to the plot indicating the values in the cells\n",
        "    thresh = cm.max() / 2.0\n",
        "    for i, j in itertools.product(range(cm.shape[0]), range(cm.shape[1])):\n",
        "        plt.text(j, i, format(cm[i, j], fmt), horizontalalignment=\"center\", color=\"white\" if cm[i, j] > thresh else \"black\")\n",
        "\n",
        "    # Label the axes\n",
        "    plt.ylabel('True label')\n",
        "    plt.xlabel('Predicted label')\n",
        "\n",
        "    # Ensure the plot layout is tight\n",
        "    plt.tight_layout()\n",
        "    # Display the plot\n",
        "    plt.show()\n",
        "\n",
        "# Calculate accuracy and F1 score\n",
        "accuracy = accuracy_score(y_true, y_pred)\n",
        "f1 = f1_score(y_true, y_pred, average='macro')\n",
        "\n",
        "# Display accuracy and F1 score\n",
        "print(f\"Accuracy: {accuracy:.4f}\")\n",
        "print(f\"F1 Score: {f1:.4f}\")\n",
        "\n",
        "# Get the confusion matrix if there are a small number of labels\n",
        "if len(labels_list) <= 250:\n",
        "    # Compute the confusion matrix\n",
        "    cm = confusion_matrix(y_true, y_pred)\n",
        "\n",
        "    # Plot the confusion matrix using the defined function\n",
        "    plot_confusion_matrix(cm, labels_list, figsize=(8, 6))\n",
        "\n",
        "# Finally, display classification report\n",
        "print()\n",
        "print(\"Classification report:\")\n",
        "print()\n",
        "try:\n",
        "    print(classification_report(y_true, y_pred, target_names=labels_list, digits=4))\n",
        "except:\n",
        "    pass"
      ],
      "metadata": {
        "execution": {
          "iopub.status.busy": "2024-04-27T10:24:04.387678Z",
          "iopub.execute_input": "2024-04-27T10:24:04.387984Z",
          "iopub.status.idle": "2024-04-27T10:24:04.671960Z",
          "shell.execute_reply.started": "2024-04-27T10:24:04.387957Z",
          "shell.execute_reply": "2024-04-27T10:24:04.671117Z"
        },
        "trusted": true,
        "id": "QI0sEu5UzGF7"
      },
      "execution_count": null,
      "outputs": []
    },
    {
      "cell_type": "code",
      "source": [
        "# Save the trained model: This line of code is responsible for saving the model\n",
        "# that has been trained using the trainer object. It will serialize the model\n",
        "# and its associated weights, making it possible to reload and use the model\n",
        "# in the future without the need to retrain it.\n",
        "trainer.save_model()"
      ],
      "metadata": {
        "execution": {
          "iopub.status.busy": "2024-04-27T10:24:04.672986Z",
          "iopub.execute_input": "2024-04-27T10:24:04.673253Z",
          "iopub.status.idle": "2024-04-27T10:24:05.165426Z",
          "shell.execute_reply.started": "2024-04-27T10:24:04.673230Z",
          "shell.execute_reply": "2024-04-27T10:24:05.164522Z"
        },
        "trusted": true,
        "id": "Vp3OcJ-nzGF8"
      },
      "execution_count": null,
      "outputs": []
    },
    {
      "cell_type": "code",
      "source": [
        "# Import the 'pipeline' function from the 'transformers' library.\n",
        "from transformers import pipeline\n",
        "\n",
        "# Create a pipeline for image classification tasks.\n",
        "# You need to specify the 'model_name' and the 'device' to use for inference.\n",
        "# - 'model_name': The name of the pre-trained model to be used for image classification.\n",
        "# - 'device': Specifies the device to use for running the model (0 for GPU, -1 for CPU).\n",
        "pipe = pipeline('image-classification', model=model_name, device=0)"
      ],
      "metadata": {
        "execution": {
          "iopub.status.busy": "2024-04-27T10:24:05.166614Z",
          "iopub.execute_input": "2024-04-27T10:24:05.166905Z",
          "iopub.status.idle": "2024-04-27T10:24:05.492871Z",
          "shell.execute_reply.started": "2024-04-27T10:24:05.166881Z",
          "shell.execute_reply": "2024-04-27T10:24:05.492095Z"
        },
        "trusted": true,
        "id": "7VZb4J17zGF8"
      },
      "execution_count": null,
      "outputs": []
    },
    {
      "cell_type": "code",
      "source": [
        "# Accessing an image from the 'test_data' dataset using index 1.\n",
        "image = test_data[1][\"image\"]\n",
        "\n",
        "# Displaying the 'image' variable.\n",
        "image"
      ],
      "metadata": {
        "execution": {
          "iopub.status.busy": "2024-04-27T10:24:05.497343Z",
          "iopub.execute_input": "2024-04-27T10:24:05.497694Z",
          "iopub.status.idle": "2024-04-27T10:24:05.594027Z",
          "shell.execute_reply.started": "2024-04-27T10:24:05.497669Z",
          "shell.execute_reply": "2024-04-27T10:24:05.593131Z"
        },
        "trusted": true,
        "id": "zHGParpLzGF8"
      },
      "execution_count": null,
      "outputs": []
    },
    {
      "cell_type": "code",
      "source": [
        "# Apply the 'pipe' function to process the 'image' variable.\n",
        "pipe(image)"
      ],
      "metadata": {
        "execution": {
          "iopub.status.busy": "2024-04-27T10:24:05.595235Z",
          "iopub.execute_input": "2024-04-27T10:24:05.595543Z",
          "iopub.status.idle": "2024-04-27T10:24:05.633892Z",
          "shell.execute_reply.started": "2024-04-27T10:24:05.595517Z",
          "shell.execute_reply": "2024-04-27T10:24:05.633039Z"
        },
        "trusted": true,
        "id": "WfPn7ZvuzGF8"
      },
      "execution_count": null,
      "outputs": []
    },
    {
      "cell_type": "code",
      "source": [
        "# This line of code accesses the \"label\" attribute of a specific element in the test_data list.\n",
        "# It's used to retrieve the actual label associated with a test data point.\n",
        "id2label[test_data[1][\"label\"]]"
      ],
      "metadata": {
        "execution": {
          "iopub.status.busy": "2024-04-27T10:24:05.634839Z",
          "iopub.execute_input": "2024-04-27T10:24:05.635125Z",
          "iopub.status.idle": "2024-04-27T10:24:05.648277Z",
          "shell.execute_reply.started": "2024-04-27T10:24:05.635101Z",
          "shell.execute_reply": "2024-04-27T10:24:05.647243Z"
        },
        "trusted": true,
        "id": "LPLZ3GC9zGF8"
      },
      "execution_count": null,
      "outputs": []
    },
    {
      "cell_type": "markdown",
      "source": [
        "# Send model to Huggingface"
      ],
      "metadata": {
        "id": "8otEPosZzGF8"
      }
    },
    {
      "cell_type": "code",
      "source": [
        "# Import the necessary module to interact with the Hugging Face Hub.\n",
        "from huggingface_hub import login\n",
        "\n",
        "# Perform a login to the Hugging Face Hub.\n",
        "login()"
      ],
      "metadata": {
        "execution": {
          "iopub.status.busy": "2024-04-27T10:24:56.026893Z",
          "iopub.execute_input": "2024-04-27T10:24:56.027280Z",
          "iopub.status.idle": "2024-04-27T10:24:56.052955Z",
          "shell.execute_reply.started": "2024-04-27T10:24:56.027243Z",
          "shell.execute_reply": "2024-04-27T10:24:56.051910Z"
        },
        "trusted": true,
        "id": "aHxVgJg8zGF8"
      },
      "execution_count": null,
      "outputs": []
    },
    {
      "cell_type": "code",
      "source": [
        "# Import the HfApi class from the huggingface_hub library.\n",
        "from huggingface_hub import HfApi\n",
        "\n",
        "# Create an instance of the HfApi class.\n",
        "api = HfApi()\n",
        "\n",
        "# Define the repository ID by combining the username \"dima806\" with the model name.\n",
        "repo_id = f\"samrattrehan/skin_type_detector\"\n",
        "\n",
        "try:\n",
        "    # Attempt to create a new repository on the Hugging Face Model Hub using the specified repo_id.\n",
        "    api.create_repo(repo_id)\n",
        "\n",
        "    # If the repository creation is successful, print a message indicating that the repository was created.\n",
        "    print(f\"Repo {repo_id} created\")\n",
        "except:\n",
        "    # If an exception is raised, print a message indicating that the repository already exists.\n",
        "    print(f\"Repo {repo_id} already exists\")"
      ],
      "metadata": {
        "execution": {
          "iopub.status.busy": "2024-04-27T10:25:12.205748Z",
          "iopub.execute_input": "2024-04-27T10:25:12.206174Z",
          "iopub.status.idle": "2024-04-27T10:25:12.307677Z",
          "shell.execute_reply.started": "2024-04-27T10:25:12.206142Z",
          "shell.execute_reply": "2024-04-27T10:25:12.306798Z"
        },
        "trusted": true,
        "id": "GuavwAHQzGF8"
      },
      "execution_count": null,
      "outputs": []
    },
    {
      "cell_type": "code",
      "source": [
        "# Uploading a folder to the Hugging Face Model Hub\n",
        "api.upload_folder(\n",
        "    folder_path=model_name,  # The path to the folder to be uploaded\n",
        "    path_in_repo=\".\",  # The path where the folder will be stored in the repository\n",
        "    repo_id=repo_id,  # The ID of the repository where the folder will be uploaded\n",
        "    repo_type=\"model\",  # The type of the repository (in this case, a model repository)\n",
        "    revision=\"main\" # Revision name\n",
        ")"
      ],
      "metadata": {
        "execution": {
          "iopub.status.busy": "2024-04-27T10:25:12.761260Z",
          "iopub.execute_input": "2024-04-27T10:25:12.761620Z",
          "iopub.status.idle": "2024-04-27T10:25:38.692999Z",
          "shell.execute_reply.started": "2024-04-27T10:25:12.761592Z",
          "shell.execute_reply": "2024-04-27T10:25:38.691911Z"
        },
        "trusted": true,
        "id": "ZzGK_FZKzGF8"
      },
      "execution_count": null,
      "outputs": []
    }
  ]
}